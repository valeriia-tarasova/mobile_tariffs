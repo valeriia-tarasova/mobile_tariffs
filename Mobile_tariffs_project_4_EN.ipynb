{
 "cells": [
  {
   "cell_type": "markdown",
   "metadata": {},
   "source": [
    "# Determination of a prospective tariff for a telecom company\n",
    "\n",
    "Cellular operator \"Megaline\" offers customers two tariff plans: \"Smart\" and \"Ultra\". To adjust the advertising budget, the commercial department wants to understand which tariff brings in more money.\n",
    "\n",
    "Purpose: to conduct a preliminary analysis of tariffs on a small sample of customers and identify the best tariff\n",
    "\n",
    "Data: data of 500 Megaline users: who they are, where they are from, what tariff they use, how many calls and messages each sent in 2018."
   ]
  },
  {
   "cell_type": "markdown",
   "metadata": {},
   "source": [
    "Tariff Description\n",
    "\n",
    "Tariff \"Smart\"\n",
    "1. Monthly fee: 550 rubles\n",
    "2. Included 500 minutes of calls, 50 messages and 15 GB of Internet traffic\n",
    "3. The cost of services in excess of the tariff package:\n",
    "o minute of conversation: 3 rubles\n",
    "o message: 3 rubles\n",
    "o 1 GB of Internet traffic: 200 rubles\n",
    "\n",
    "Tariff \"Ultra\"\n",
    "1. Monthly fee: 1950 rubles\n",
    "2. Included 3000 minutes of calls, 1000 messages and 30 GB of internet traffic\n",
    "3. The cost of services in excess of the tariff package:\n",
    "o minute of conversation: 1 ruble\n",
    "o message: 1 ruble\n",
    "o 1 GB of Internet traffic: 150 rubles\n",
    "\n",
    "Note:\n",
    "Megaline always rounds seconds to minutes, and megabytes to gigabytes. Each call is rounded up separately: even if it lasted only 1 second, it will be counted as 1 minute.\n",
    "For web traffic, individual sessions are not counted. Instead, the monthly total is rounded up. If a subscriber uses 1025 megabytes this month, they will be charged for 2 gigabytes.\n"
   ]
  },
  {
   "cell_type": "markdown",
   "metadata": {},
   "source": [
    "## Data Acquaintance"
   ]
  },
  {
   "cell_type": "code",
   "execution_count": 36,
   "metadata": {},
   "outputs": [],
   "source": [
    "import pandas as pd\n",
    "import math\n",
    "import numpy as np"
   ]
  },
  {
   "cell_type": "code",
   "execution_count": 37,
   "metadata": {},
   "outputs": [],
   "source": [
    "data_calls = pd.read_csv('/datasets/calls.csv')\n",
    "data_internet = pd.read_csv('/datasets/internet.csv')\n",
    "data_messages = pd.read_csv('/datasets/messages.csv')\n",
    "data_tariffs = pd.read_csv('/datasets/tariffs.csv')\n",
    "data_users = pd.read_csv('/datasets/users.csv')"
   ]
  },
  {
   "cell_type": "code",
   "execution_count": 38,
   "metadata": {},
   "outputs": [
    {
     "name": "stdout",
     "output_type": "stream",
     "text": [
      "<class 'pandas.core.frame.DataFrame'>\n",
      "RangeIndex: 500 entries, 0 to 499\n",
      "Data columns (total 8 columns):\n",
      " #   Column      Non-Null Count  Dtype \n",
      "---  ------      --------------  ----- \n",
      " 0   user_id     500 non-null    int64 \n",
      " 1   age         500 non-null    int64 \n",
      " 2   churn_date  38 non-null     object\n",
      " 3   city        500 non-null    object\n",
      " 4   first_name  500 non-null    object\n",
      " 5   last_name   500 non-null    object\n",
      " 6   reg_date    500 non-null    object\n",
      " 7   tariff      500 non-null    object\n",
      "dtypes: int64(2), object(6)\n",
      "memory usage: 31.4+ KB\n",
      "<class 'pandas.core.frame.DataFrame'>\n",
      "RangeIndex: 2 entries, 0 to 1\n",
      "Data columns (total 8 columns):\n",
      " #   Column                 Non-Null Count  Dtype \n",
      "---  ------                 --------------  ----- \n",
      " 0   messages_included      2 non-null      int64 \n",
      " 1   mb_per_month_included  2 non-null      int64 \n",
      " 2   minutes_included       2 non-null      int64 \n",
      " 3   rub_monthly_fee        2 non-null      int64 \n",
      " 4   rub_per_gb             2 non-null      int64 \n",
      " 5   rub_per_message        2 non-null      int64 \n",
      " 6   rub_per_minute         2 non-null      int64 \n",
      " 7   tariff_name            2 non-null      object\n",
      "dtypes: int64(7), object(1)\n",
      "memory usage: 256.0+ bytes\n",
      "<class 'pandas.core.frame.DataFrame'>\n",
      "RangeIndex: 202607 entries, 0 to 202606\n",
      "Data columns (total 4 columns):\n",
      " #   Column     Non-Null Count   Dtype  \n",
      "---  ------     --------------   -----  \n",
      " 0   id         202607 non-null  object \n",
      " 1   call_date  202607 non-null  object \n",
      " 2   duration   202607 non-null  float64\n",
      " 3   user_id    202607 non-null  int64  \n",
      "dtypes: float64(1), int64(1), object(2)\n",
      "memory usage: 6.2+ MB\n",
      "<class 'pandas.core.frame.DataFrame'>\n",
      "RangeIndex: 123036 entries, 0 to 123035\n",
      "Data columns (total 3 columns):\n",
      " #   Column        Non-Null Count   Dtype \n",
      "---  ------        --------------   ----- \n",
      " 0   id            123036 non-null  object\n",
      " 1   message_date  123036 non-null  object\n",
      " 2   user_id       123036 non-null  int64 \n",
      "dtypes: int64(1), object(2)\n",
      "memory usage: 2.8+ MB\n",
      "<class 'pandas.core.frame.DataFrame'>\n",
      "RangeIndex: 149396 entries, 0 to 149395\n",
      "Data columns (total 5 columns):\n",
      " #   Column        Non-Null Count   Dtype  \n",
      "---  ------        --------------   -----  \n",
      " 0   Unnamed: 0    149396 non-null  int64  \n",
      " 1   id            149396 non-null  object \n",
      " 2   mb_used       149396 non-null  float64\n",
      " 3   session_date  149396 non-null  object \n",
      " 4   user_id       149396 non-null  int64  \n",
      "dtypes: float64(1), int64(2), object(2)\n",
      "memory usage: 5.7+ MB\n"
     ]
    }
   ],
   "source": [
    "data_unit = (data_users, data_tariffs, data_calls, data_messages, data_internet)\n",
    "for data in data_unit:\n",
    "    data.info()\n",
    "    display()"
   ]
  },
  {
   "cell_type": "markdown",
   "metadata": {},
   "source": [
    "In data_users, you need to change the type to DateTime for churn_date and reg_date.\n",
    "Data_internet has a strange unnamed column, needs to be fixed. session_date translate to DateTime.\n",
    "In data_calls, you need to translate call_date into DateTime.\n",
    "In data_messages, you need to convert to DateTime message_date."
   ]
  },
  {
   "cell_type": "code",
   "execution_count": 39,
   "metadata": {},
   "outputs": [
    {
     "data": {
      "text/html": [
       "<div>\n",
       "<style scoped>\n",
       "    .dataframe tbody tr th:only-of-type {\n",
       "        vertical-align: middle;\n",
       "    }\n",
       "\n",
       "    .dataframe tbody tr th {\n",
       "        vertical-align: top;\n",
       "    }\n",
       "\n",
       "    .dataframe thead th {\n",
       "        text-align: right;\n",
       "    }\n",
       "</style>\n",
       "<table border=\"1\" class=\"dataframe\">\n",
       "  <thead>\n",
       "    <tr style=\"text-align: right;\">\n",
       "      <th></th>\n",
       "      <th>user_id</th>\n",
       "      <th>age</th>\n",
       "      <th>churn_date</th>\n",
       "      <th>city</th>\n",
       "      <th>first_name</th>\n",
       "      <th>last_name</th>\n",
       "      <th>reg_date</th>\n",
       "      <th>tariff</th>\n",
       "    </tr>\n",
       "  </thead>\n",
       "  <tbody>\n",
       "    <tr>\n",
       "      <th>0</th>\n",
       "      <td>1000</td>\n",
       "      <td>52</td>\n",
       "      <td>NaN</td>\n",
       "      <td>Краснодар</td>\n",
       "      <td>Рафаил</td>\n",
       "      <td>Верещагин</td>\n",
       "      <td>2018-05-25</td>\n",
       "      <td>ultra</td>\n",
       "    </tr>\n",
       "    <tr>\n",
       "      <th>1</th>\n",
       "      <td>1001</td>\n",
       "      <td>41</td>\n",
       "      <td>NaN</td>\n",
       "      <td>Москва</td>\n",
       "      <td>Иван</td>\n",
       "      <td>Ежов</td>\n",
       "      <td>2018-11-01</td>\n",
       "      <td>smart</td>\n",
       "    </tr>\n",
       "    <tr>\n",
       "      <th>2</th>\n",
       "      <td>1002</td>\n",
       "      <td>59</td>\n",
       "      <td>NaN</td>\n",
       "      <td>Стерлитамак</td>\n",
       "      <td>Евгений</td>\n",
       "      <td>Абрамович</td>\n",
       "      <td>2018-06-17</td>\n",
       "      <td>smart</td>\n",
       "    </tr>\n",
       "    <tr>\n",
       "      <th>3</th>\n",
       "      <td>1003</td>\n",
       "      <td>23</td>\n",
       "      <td>NaN</td>\n",
       "      <td>Москва</td>\n",
       "      <td>Белла</td>\n",
       "      <td>Белякова</td>\n",
       "      <td>2018-08-17</td>\n",
       "      <td>ultra</td>\n",
       "    </tr>\n",
       "    <tr>\n",
       "      <th>4</th>\n",
       "      <td>1004</td>\n",
       "      <td>68</td>\n",
       "      <td>NaN</td>\n",
       "      <td>Новокузнецк</td>\n",
       "      <td>Татьяна</td>\n",
       "      <td>Авдеенко</td>\n",
       "      <td>2018-05-14</td>\n",
       "      <td>ultra</td>\n",
       "    </tr>\n",
       "    <tr>\n",
       "      <th>5</th>\n",
       "      <td>1005</td>\n",
       "      <td>67</td>\n",
       "      <td>NaN</td>\n",
       "      <td>Набережные Челны</td>\n",
       "      <td>Афанасий</td>\n",
       "      <td>Горлов</td>\n",
       "      <td>2018-01-25</td>\n",
       "      <td>smart</td>\n",
       "    </tr>\n",
       "    <tr>\n",
       "      <th>6</th>\n",
       "      <td>1006</td>\n",
       "      <td>21</td>\n",
       "      <td>NaN</td>\n",
       "      <td>Ульяновск</td>\n",
       "      <td>Леонид</td>\n",
       "      <td>Ермолаев</td>\n",
       "      <td>2018-02-26</td>\n",
       "      <td>smart</td>\n",
       "    </tr>\n",
       "    <tr>\n",
       "      <th>7</th>\n",
       "      <td>1007</td>\n",
       "      <td>65</td>\n",
       "      <td>NaN</td>\n",
       "      <td>Москва</td>\n",
       "      <td>Юна</td>\n",
       "      <td>Березина</td>\n",
       "      <td>2018-04-19</td>\n",
       "      <td>smart</td>\n",
       "    </tr>\n",
       "    <tr>\n",
       "      <th>8</th>\n",
       "      <td>1008</td>\n",
       "      <td>63</td>\n",
       "      <td>NaN</td>\n",
       "      <td>Челябинск</td>\n",
       "      <td>Рустэм</td>\n",
       "      <td>Пономарёв</td>\n",
       "      <td>2018-12-19</td>\n",
       "      <td>smart</td>\n",
       "    </tr>\n",
       "    <tr>\n",
       "      <th>9</th>\n",
       "      <td>1009</td>\n",
       "      <td>24</td>\n",
       "      <td>NaN</td>\n",
       "      <td>Пермь</td>\n",
       "      <td>Василиса</td>\n",
       "      <td>Блинова</td>\n",
       "      <td>2018-03-22</td>\n",
       "      <td>smart</td>\n",
       "    </tr>\n",
       "  </tbody>\n",
       "</table>\n",
       "</div>"
      ],
      "text/plain": [
       "   user_id  age churn_date              city first_name  last_name  \\\n",
       "0     1000   52        NaN         Краснодар     Рафаил  Верещагин   \n",
       "1     1001   41        NaN            Москва       Иван       Ежов   \n",
       "2     1002   59        NaN       Стерлитамак    Евгений  Абрамович   \n",
       "3     1003   23        NaN            Москва      Белла   Белякова   \n",
       "4     1004   68        NaN       Новокузнецк    Татьяна   Авдеенко   \n",
       "5     1005   67        NaN  Набережные Челны   Афанасий     Горлов   \n",
       "6     1006   21        NaN         Ульяновск     Леонид   Ермолаев   \n",
       "7     1007   65        NaN            Москва        Юна   Березина   \n",
       "8     1008   63        NaN         Челябинск     Рустэм  Пономарёв   \n",
       "9     1009   24        NaN             Пермь   Василиса    Блинова   \n",
       "\n",
       "     reg_date tariff  \n",
       "0  2018-05-25  ultra  \n",
       "1  2018-11-01  smart  \n",
       "2  2018-06-17  smart  \n",
       "3  2018-08-17  ultra  \n",
       "4  2018-05-14  ultra  \n",
       "5  2018-01-25  smart  \n",
       "6  2018-02-26  smart  \n",
       "7  2018-04-19  smart  \n",
       "8  2018-12-19  smart  \n",
       "9  2018-03-22  smart  "
      ]
     },
     "execution_count": 39,
     "metadata": {},
     "output_type": "execute_result"
    }
   ],
   "source": [
    "data_users.head(10)"
   ]
  },
  {
   "cell_type": "code",
   "execution_count": 40,
   "metadata": {},
   "outputs": [
    {
     "data": {
      "text/html": [
       "<div>\n",
       "<style scoped>\n",
       "    .dataframe tbody tr th:only-of-type {\n",
       "        vertical-align: middle;\n",
       "    }\n",
       "\n",
       "    .dataframe tbody tr th {\n",
       "        vertical-align: top;\n",
       "    }\n",
       "\n",
       "    .dataframe thead th {\n",
       "        text-align: right;\n",
       "    }\n",
       "</style>\n",
       "<table border=\"1\" class=\"dataframe\">\n",
       "  <thead>\n",
       "    <tr style=\"text-align: right;\">\n",
       "      <th></th>\n",
       "      <th>messages_included</th>\n",
       "      <th>mb_per_month_included</th>\n",
       "      <th>minutes_included</th>\n",
       "      <th>rub_monthly_fee</th>\n",
       "      <th>rub_per_gb</th>\n",
       "      <th>rub_per_message</th>\n",
       "      <th>rub_per_minute</th>\n",
       "      <th>tariff_name</th>\n",
       "    </tr>\n",
       "  </thead>\n",
       "  <tbody>\n",
       "    <tr>\n",
       "      <th>0</th>\n",
       "      <td>50</td>\n",
       "      <td>15360</td>\n",
       "      <td>500</td>\n",
       "      <td>550</td>\n",
       "      <td>200</td>\n",
       "      <td>3</td>\n",
       "      <td>3</td>\n",
       "      <td>smart</td>\n",
       "    </tr>\n",
       "    <tr>\n",
       "      <th>1</th>\n",
       "      <td>1000</td>\n",
       "      <td>30720</td>\n",
       "      <td>3000</td>\n",
       "      <td>1950</td>\n",
       "      <td>150</td>\n",
       "      <td>1</td>\n",
       "      <td>1</td>\n",
       "      <td>ultra</td>\n",
       "    </tr>\n",
       "  </tbody>\n",
       "</table>\n",
       "</div>"
      ],
      "text/plain": [
       "   messages_included  mb_per_month_included  minutes_included  \\\n",
       "0                 50                  15360               500   \n",
       "1               1000                  30720              3000   \n",
       "\n",
       "   rub_monthly_fee  rub_per_gb  rub_per_message  rub_per_minute tariff_name  \n",
       "0              550         200                3               3       smart  \n",
       "1             1950         150                1               1       ultra  "
      ]
     },
     "execution_count": 40,
     "metadata": {},
     "output_type": "execute_result"
    }
   ],
   "source": [
    "data_tariffs.head()"
   ]
  },
  {
   "cell_type": "code",
   "execution_count": 41,
   "metadata": {},
   "outputs": [
    {
     "data": {
      "text/html": [
       "<div>\n",
       "<style scoped>\n",
       "    .dataframe tbody tr th:only-of-type {\n",
       "        vertical-align: middle;\n",
       "    }\n",
       "\n",
       "    .dataframe tbody tr th {\n",
       "        vertical-align: top;\n",
       "    }\n",
       "\n",
       "    .dataframe thead th {\n",
       "        text-align: right;\n",
       "    }\n",
       "</style>\n",
       "<table border=\"1\" class=\"dataframe\">\n",
       "  <thead>\n",
       "    <tr style=\"text-align: right;\">\n",
       "      <th></th>\n",
       "      <th>id</th>\n",
       "      <th>call_date</th>\n",
       "      <th>duration</th>\n",
       "      <th>user_id</th>\n",
       "    </tr>\n",
       "  </thead>\n",
       "  <tbody>\n",
       "    <tr>\n",
       "      <th>0</th>\n",
       "      <td>1000_0</td>\n",
       "      <td>2018-07-25</td>\n",
       "      <td>0.00</td>\n",
       "      <td>1000</td>\n",
       "    </tr>\n",
       "    <tr>\n",
       "      <th>1</th>\n",
       "      <td>1000_1</td>\n",
       "      <td>2018-08-17</td>\n",
       "      <td>0.00</td>\n",
       "      <td>1000</td>\n",
       "    </tr>\n",
       "    <tr>\n",
       "      <th>2</th>\n",
       "      <td>1000_2</td>\n",
       "      <td>2018-06-11</td>\n",
       "      <td>2.85</td>\n",
       "      <td>1000</td>\n",
       "    </tr>\n",
       "    <tr>\n",
       "      <th>3</th>\n",
       "      <td>1000_3</td>\n",
       "      <td>2018-09-21</td>\n",
       "      <td>13.80</td>\n",
       "      <td>1000</td>\n",
       "    </tr>\n",
       "    <tr>\n",
       "      <th>4</th>\n",
       "      <td>1000_4</td>\n",
       "      <td>2018-12-15</td>\n",
       "      <td>5.18</td>\n",
       "      <td>1000</td>\n",
       "    </tr>\n",
       "    <tr>\n",
       "      <th>5</th>\n",
       "      <td>1000_5</td>\n",
       "      <td>2018-11-02</td>\n",
       "      <td>0.00</td>\n",
       "      <td>1000</td>\n",
       "    </tr>\n",
       "    <tr>\n",
       "      <th>6</th>\n",
       "      <td>1000_6</td>\n",
       "      <td>2018-10-18</td>\n",
       "      <td>0.00</td>\n",
       "      <td>1000</td>\n",
       "    </tr>\n",
       "    <tr>\n",
       "      <th>7</th>\n",
       "      <td>1000_7</td>\n",
       "      <td>2018-08-22</td>\n",
       "      <td>18.31</td>\n",
       "      <td>1000</td>\n",
       "    </tr>\n",
       "    <tr>\n",
       "      <th>8</th>\n",
       "      <td>1000_8</td>\n",
       "      <td>2018-09-15</td>\n",
       "      <td>18.44</td>\n",
       "      <td>1000</td>\n",
       "    </tr>\n",
       "    <tr>\n",
       "      <th>9</th>\n",
       "      <td>1000_9</td>\n",
       "      <td>2018-08-15</td>\n",
       "      <td>0.00</td>\n",
       "      <td>1000</td>\n",
       "    </tr>\n",
       "  </tbody>\n",
       "</table>\n",
       "</div>"
      ],
      "text/plain": [
       "       id   call_date  duration  user_id\n",
       "0  1000_0  2018-07-25      0.00     1000\n",
       "1  1000_1  2018-08-17      0.00     1000\n",
       "2  1000_2  2018-06-11      2.85     1000\n",
       "3  1000_3  2018-09-21     13.80     1000\n",
       "4  1000_4  2018-12-15      5.18     1000\n",
       "5  1000_5  2018-11-02      0.00     1000\n",
       "6  1000_6  2018-10-18      0.00     1000\n",
       "7  1000_7  2018-08-22     18.31     1000\n",
       "8  1000_8  2018-09-15     18.44     1000\n",
       "9  1000_9  2018-08-15      0.00     1000"
      ]
     },
     "execution_count": 41,
     "metadata": {},
     "output_type": "execute_result"
    }
   ],
   "source": [
    "data_calls.head(10)"
   ]
  },
  {
   "cell_type": "code",
   "execution_count": 42,
   "metadata": {},
   "outputs": [
    {
     "data": {
      "text/html": [
       "<div>\n",
       "<style scoped>\n",
       "    .dataframe tbody tr th:only-of-type {\n",
       "        vertical-align: middle;\n",
       "    }\n",
       "\n",
       "    .dataframe tbody tr th {\n",
       "        vertical-align: top;\n",
       "    }\n",
       "\n",
       "    .dataframe thead th {\n",
       "        text-align: right;\n",
       "    }\n",
       "</style>\n",
       "<table border=\"1\" class=\"dataframe\">\n",
       "  <thead>\n",
       "    <tr style=\"text-align: right;\">\n",
       "      <th></th>\n",
       "      <th>id</th>\n",
       "      <th>message_date</th>\n",
       "      <th>user_id</th>\n",
       "    </tr>\n",
       "  </thead>\n",
       "  <tbody>\n",
       "    <tr>\n",
       "      <th>0</th>\n",
       "      <td>1000_0</td>\n",
       "      <td>2018-06-27</td>\n",
       "      <td>1000</td>\n",
       "    </tr>\n",
       "    <tr>\n",
       "      <th>1</th>\n",
       "      <td>1000_1</td>\n",
       "      <td>2018-10-08</td>\n",
       "      <td>1000</td>\n",
       "    </tr>\n",
       "    <tr>\n",
       "      <th>2</th>\n",
       "      <td>1000_2</td>\n",
       "      <td>2018-08-04</td>\n",
       "      <td>1000</td>\n",
       "    </tr>\n",
       "    <tr>\n",
       "      <th>3</th>\n",
       "      <td>1000_3</td>\n",
       "      <td>2018-06-16</td>\n",
       "      <td>1000</td>\n",
       "    </tr>\n",
       "    <tr>\n",
       "      <th>4</th>\n",
       "      <td>1000_4</td>\n",
       "      <td>2018-12-05</td>\n",
       "      <td>1000</td>\n",
       "    </tr>\n",
       "    <tr>\n",
       "      <th>5</th>\n",
       "      <td>1000_5</td>\n",
       "      <td>2018-06-20</td>\n",
       "      <td>1000</td>\n",
       "    </tr>\n",
       "    <tr>\n",
       "      <th>6</th>\n",
       "      <td>1000_6</td>\n",
       "      <td>2018-11-19</td>\n",
       "      <td>1000</td>\n",
       "    </tr>\n",
       "    <tr>\n",
       "      <th>7</th>\n",
       "      <td>1000_7</td>\n",
       "      <td>2018-10-29</td>\n",
       "      <td>1000</td>\n",
       "    </tr>\n",
       "    <tr>\n",
       "      <th>8</th>\n",
       "      <td>1000_8</td>\n",
       "      <td>2018-06-25</td>\n",
       "      <td>1000</td>\n",
       "    </tr>\n",
       "    <tr>\n",
       "      <th>9</th>\n",
       "      <td>1000_9</td>\n",
       "      <td>2018-12-18</td>\n",
       "      <td>1000</td>\n",
       "    </tr>\n",
       "  </tbody>\n",
       "</table>\n",
       "</div>"
      ],
      "text/plain": [
       "       id message_date  user_id\n",
       "0  1000_0   2018-06-27     1000\n",
       "1  1000_1   2018-10-08     1000\n",
       "2  1000_2   2018-08-04     1000\n",
       "3  1000_3   2018-06-16     1000\n",
       "4  1000_4   2018-12-05     1000\n",
       "5  1000_5   2018-06-20     1000\n",
       "6  1000_6   2018-11-19     1000\n",
       "7  1000_7   2018-10-29     1000\n",
       "8  1000_8   2018-06-25     1000\n",
       "9  1000_9   2018-12-18     1000"
      ]
     },
     "execution_count": 42,
     "metadata": {},
     "output_type": "execute_result"
    }
   ],
   "source": [
    "data_messages.head(10)"
   ]
  },
  {
   "cell_type": "code",
   "execution_count": 43,
   "metadata": {},
   "outputs": [
    {
     "data": {
      "text/html": [
       "<div>\n",
       "<style scoped>\n",
       "    .dataframe tbody tr th:only-of-type {\n",
       "        vertical-align: middle;\n",
       "    }\n",
       "\n",
       "    .dataframe tbody tr th {\n",
       "        vertical-align: top;\n",
       "    }\n",
       "\n",
       "    .dataframe thead th {\n",
       "        text-align: right;\n",
       "    }\n",
       "</style>\n",
       "<table border=\"1\" class=\"dataframe\">\n",
       "  <thead>\n",
       "    <tr style=\"text-align: right;\">\n",
       "      <th></th>\n",
       "      <th>Unnamed: 0</th>\n",
       "      <th>id</th>\n",
       "      <th>mb_used</th>\n",
       "      <th>session_date</th>\n",
       "      <th>user_id</th>\n",
       "    </tr>\n",
       "  </thead>\n",
       "  <tbody>\n",
       "    <tr>\n",
       "      <th>0</th>\n",
       "      <td>0</td>\n",
       "      <td>1000_0</td>\n",
       "      <td>112.95</td>\n",
       "      <td>2018-11-25</td>\n",
       "      <td>1000</td>\n",
       "    </tr>\n",
       "    <tr>\n",
       "      <th>1</th>\n",
       "      <td>1</td>\n",
       "      <td>1000_1</td>\n",
       "      <td>1052.81</td>\n",
       "      <td>2018-09-07</td>\n",
       "      <td>1000</td>\n",
       "    </tr>\n",
       "    <tr>\n",
       "      <th>2</th>\n",
       "      <td>2</td>\n",
       "      <td>1000_2</td>\n",
       "      <td>1197.26</td>\n",
       "      <td>2018-06-25</td>\n",
       "      <td>1000</td>\n",
       "    </tr>\n",
       "    <tr>\n",
       "      <th>3</th>\n",
       "      <td>3</td>\n",
       "      <td>1000_3</td>\n",
       "      <td>550.27</td>\n",
       "      <td>2018-08-22</td>\n",
       "      <td>1000</td>\n",
       "    </tr>\n",
       "    <tr>\n",
       "      <th>4</th>\n",
       "      <td>4</td>\n",
       "      <td>1000_4</td>\n",
       "      <td>302.56</td>\n",
       "      <td>2018-09-24</td>\n",
       "      <td>1000</td>\n",
       "    </tr>\n",
       "    <tr>\n",
       "      <th>5</th>\n",
       "      <td>5</td>\n",
       "      <td>1000_5</td>\n",
       "      <td>399.97</td>\n",
       "      <td>2018-10-02</td>\n",
       "      <td>1000</td>\n",
       "    </tr>\n",
       "    <tr>\n",
       "      <th>6</th>\n",
       "      <td>6</td>\n",
       "      <td>1000_6</td>\n",
       "      <td>540.08</td>\n",
       "      <td>2018-09-07</td>\n",
       "      <td>1000</td>\n",
       "    </tr>\n",
       "    <tr>\n",
       "      <th>7</th>\n",
       "      <td>7</td>\n",
       "      <td>1000_7</td>\n",
       "      <td>415.70</td>\n",
       "      <td>2018-07-11</td>\n",
       "      <td>1000</td>\n",
       "    </tr>\n",
       "    <tr>\n",
       "      <th>8</th>\n",
       "      <td>8</td>\n",
       "      <td>1000_8</td>\n",
       "      <td>505.40</td>\n",
       "      <td>2018-10-08</td>\n",
       "      <td>1000</td>\n",
       "    </tr>\n",
       "    <tr>\n",
       "      <th>9</th>\n",
       "      <td>9</td>\n",
       "      <td>1000_9</td>\n",
       "      <td>345.54</td>\n",
       "      <td>2018-09-03</td>\n",
       "      <td>1000</td>\n",
       "    </tr>\n",
       "  </tbody>\n",
       "</table>\n",
       "</div>"
      ],
      "text/plain": [
       "   Unnamed: 0      id  mb_used session_date  user_id\n",
       "0           0  1000_0   112.95   2018-11-25     1000\n",
       "1           1  1000_1  1052.81   2018-09-07     1000\n",
       "2           2  1000_2  1197.26   2018-06-25     1000\n",
       "3           3  1000_3   550.27   2018-08-22     1000\n",
       "4           4  1000_4   302.56   2018-09-24     1000\n",
       "5           5  1000_5   399.97   2018-10-02     1000\n",
       "6           6  1000_6   540.08   2018-09-07     1000\n",
       "7           7  1000_7   415.70   2018-07-11     1000\n",
       "8           8  1000_8   505.40   2018-10-08     1000\n",
       "9           9  1000_9   345.54   2018-09-03     1000"
      ]
     },
     "execution_count": 43,
     "metadata": {},
     "output_type": "execute_result"
    }
   ],
   "source": [
    "data_internet.head(10)"
   ]
  },
  {
   "cell_type": "markdown",
   "metadata": {},
   "source": [
    "id in all tables is recognized as a string. This is the id of the user_id and the number of the entry that belongs to it. It turns out user_id is redundant, you can remove it.\n",
    "The unnamed field, according to the first data, duplicates the id of the DF itself. It needs to be checked and removed.\n",
    "No suspicious gaps were found in the tables. "
   ]
  },
  {
   "cell_type": "markdown",
   "metadata": {},
   "source": [
    "## Data preprocessing\n",
    "Let's convert columns with dates to the Datetime format"
   ]
  },
  {
   "cell_type": "code",
   "execution_count": 44,
   "metadata": {},
   "outputs": [],
   "source": [
    "data_users['churn_date'] = pd.to_datetime(data_users['churn_date'], format='%Y-%m-%d')\n",
    "data_users['reg_date'] = pd.to_datetime(data_users['reg_date'], format='%Y-%m-%d')\n",
    "data_calls['call_date'] = pd.to_datetime(data_calls['call_date'], format='%Y-%m-%d')\n",
    "data_messages['message_date'] = pd.to_datetime(data_messages['message_date'], format='%Y-%m-%d')\n",
    "data_internet['session_date'] = pd.to_datetime(data_internet['session_date'], format='%Y-%m-%d')"
   ]
  },
  {
   "cell_type": "code",
   "execution_count": 45,
   "metadata": {},
   "outputs": [
    {
     "data": {
      "text/plain": [
       "149391    149391\n",
       "149392    149392\n",
       "149393    149393\n",
       "149394    149394\n",
       "149395    149395\n",
       "Name: Unnamed: 0, dtype: int64"
      ]
     },
     "execution_count": 45,
     "metadata": {},
     "output_type": "execute_result"
    }
   ],
   "source": [
    "len(data_internet['Unnamed: 0'].unique())\n",
    "data_internet['Unnamed: 0'].tail()"
   ]
  },
  {
   "cell_type": "markdown",
   "metadata": {},
   "source": [
    "The number of elements in the Unnamed column is the same as the number of indexes - delete the column."
   ]
  },
  {
   "cell_type": "code",
   "execution_count": 46,
   "metadata": {},
   "outputs": [],
   "source": [
    "del data_internet['Unnamed: 0']"
   ]
  },
  {
   "cell_type": "code",
   "execution_count": 47,
   "metadata": {},
   "outputs": [
    {
     "name": "stdout",
     "output_type": "stream",
     "text": [
      "0\n",
      "\n",
      "0\n",
      "\n",
      "0\n",
      "\n",
      "0\n",
      "\n",
      "0\n",
      "\n"
     ]
    }
   ],
   "source": [
    "for data in data_unit:\n",
    "    print(data.duplicated().sum())\n",
    "    print()"
   ]
  },
  {
   "cell_type": "markdown",
   "metadata": {},
   "source": [
    "No obvious duplicates were found in the table. Let's round up the duration of calls to the minute and the used GB, as stated in the terms of use of the tariff."
   ]
  },
  {
   "cell_type": "code",
   "execution_count": 48,
   "metadata": {},
   "outputs": [],
   "source": [
    "data_calls['duration'] = data_calls['duration'].apply(math.ceil)\n",
    "data_internet['mb_used'] = data_internet['mb_used'].apply(math.ceil)"
   ]
  },
  {
   "cell_type": "markdown",
   "metadata": {},
   "source": [
    "### Results of data preprocessing\n",
    "\n",
    "No duplicates were found. The extra column Unnamed has been removed. Time and date values have been converted to the correct format.\n",
    "They were rounded up to the whole number of minutes and megabytes in order to correctly calculate how much is required and how much the user will actually need to pay for communication services."
   ]
  },
  {
   "cell_type": "markdown",
   "metadata": {},
   "source": [
    "## Calculation of additional parameters\n",
    "\n",
    "It is necessary to calculate for each user:\n",
    "\n",
    "• number of calls made and spent minutes of conversation by month;\n",
    "\n",
    "• number of sent messages by month;\n",
    "\n",
    "• volume of used Internet traffic by months;\n",
    "\n",
    "• monthly revenue from each user."
   ]
  },
  {
   "cell_type": "code",
   "execution_count": 49,
   "metadata": {},
   "outputs": [
    {
     "data": {
      "text/html": [
       "<div>\n",
       "<style scoped>\n",
       "    .dataframe tbody tr th:only-of-type {\n",
       "        vertical-align: middle;\n",
       "    }\n",
       "\n",
       "    .dataframe tbody tr th {\n",
       "        vertical-align: top;\n",
       "    }\n",
       "\n",
       "    .dataframe thead th {\n",
       "        text-align: right;\n",
       "    }\n",
       "</style>\n",
       "<table border=\"1\" class=\"dataframe\">\n",
       "  <thead>\n",
       "    <tr style=\"text-align: right;\">\n",
       "      <th></th>\n",
       "      <th></th>\n",
       "      <th>month_call_duration</th>\n",
       "      <th>month_call_count</th>\n",
       "    </tr>\n",
       "    <tr>\n",
       "      <th>user_id</th>\n",
       "      <th>month</th>\n",
       "      <th></th>\n",
       "      <th></th>\n",
       "    </tr>\n",
       "  </thead>\n",
       "  <tbody>\n",
       "    <tr>\n",
       "      <th rowspan=\"5\" valign=\"top\">1000</th>\n",
       "      <th>5</th>\n",
       "      <td>159</td>\n",
       "      <td>22</td>\n",
       "    </tr>\n",
       "    <tr>\n",
       "      <th>6</th>\n",
       "      <td>172</td>\n",
       "      <td>43</td>\n",
       "    </tr>\n",
       "    <tr>\n",
       "      <th>7</th>\n",
       "      <td>340</td>\n",
       "      <td>47</td>\n",
       "    </tr>\n",
       "    <tr>\n",
       "      <th>8</th>\n",
       "      <td>408</td>\n",
       "      <td>52</td>\n",
       "    </tr>\n",
       "    <tr>\n",
       "      <th>9</th>\n",
       "      <td>466</td>\n",
       "      <td>58</td>\n",
       "    </tr>\n",
       "    <tr>\n",
       "      <th>...</th>\n",
       "      <th>...</th>\n",
       "      <td>...</td>\n",
       "      <td>...</td>\n",
       "    </tr>\n",
       "    <tr>\n",
       "      <th>1498</th>\n",
       "      <th>10</th>\n",
       "      <td>247</td>\n",
       "      <td>41</td>\n",
       "    </tr>\n",
       "    <tr>\n",
       "      <th rowspan=\"4\" valign=\"top\">1499</th>\n",
       "      <th>9</th>\n",
       "      <td>70</td>\n",
       "      <td>9</td>\n",
       "    </tr>\n",
       "    <tr>\n",
       "      <th>10</th>\n",
       "      <td>449</td>\n",
       "      <td>68</td>\n",
       "    </tr>\n",
       "    <tr>\n",
       "      <th>11</th>\n",
       "      <td>612</td>\n",
       "      <td>74</td>\n",
       "    </tr>\n",
       "    <tr>\n",
       "      <th>12</th>\n",
       "      <td>492</td>\n",
       "      <td>69</td>\n",
       "    </tr>\n",
       "  </tbody>\n",
       "</table>\n",
       "<p>3174 rows × 2 columns</p>\n",
       "</div>"
      ],
      "text/plain": [
       "               month_call_duration  month_call_count\n",
       "user_id month                                       \n",
       "1000    5                      159                22\n",
       "        6                      172                43\n",
       "        7                      340                47\n",
       "        8                      408                52\n",
       "        9                      466                58\n",
       "...                            ...               ...\n",
       "1498    10                     247                41\n",
       "1499    9                       70                 9\n",
       "        10                     449                68\n",
       "        11                     612                74\n",
       "        12                     492                69\n",
       "\n",
       "[3174 rows x 2 columns]"
      ]
     },
     "execution_count": 49,
     "metadata": {},
     "output_type": "execute_result"
    }
   ],
   "source": [
    "data_calls['month'] = data_calls['call_date'].dt.month\n",
    "data_calls_month = data_calls.pivot_table(index=['user_id', 'month'], values=[\"duration\"], aggfunc=['sum', 'count'])\n",
    "data_calls_month.columns = ['month_call_duration', 'month_call_count']\n",
    "data_calls_month"
   ]
  },
  {
   "cell_type": "code",
   "execution_count": 50,
   "metadata": {},
   "outputs": [
    {
     "data": {
      "text/html": [
       "<div>\n",
       "<style scoped>\n",
       "    .dataframe tbody tr th:only-of-type {\n",
       "        vertical-align: middle;\n",
       "    }\n",
       "\n",
       "    .dataframe tbody tr th {\n",
       "        vertical-align: top;\n",
       "    }\n",
       "\n",
       "    .dataframe thead th {\n",
       "        text-align: right;\n",
       "    }\n",
       "</style>\n",
       "<table border=\"1\" class=\"dataframe\">\n",
       "  <thead>\n",
       "    <tr style=\"text-align: right;\">\n",
       "      <th></th>\n",
       "      <th></th>\n",
       "      <th>month_message_count</th>\n",
       "    </tr>\n",
       "    <tr>\n",
       "      <th>user_id</th>\n",
       "      <th>month</th>\n",
       "      <th></th>\n",
       "    </tr>\n",
       "  </thead>\n",
       "  <tbody>\n",
       "    <tr>\n",
       "      <th rowspan=\"5\" valign=\"top\">1000</th>\n",
       "      <th>5</th>\n",
       "      <td>22</td>\n",
       "    </tr>\n",
       "    <tr>\n",
       "      <th>6</th>\n",
       "      <td>60</td>\n",
       "    </tr>\n",
       "    <tr>\n",
       "      <th>7</th>\n",
       "      <td>75</td>\n",
       "    </tr>\n",
       "    <tr>\n",
       "      <th>8</th>\n",
       "      <td>81</td>\n",
       "    </tr>\n",
       "    <tr>\n",
       "      <th>9</th>\n",
       "      <td>57</td>\n",
       "    </tr>\n",
       "    <tr>\n",
       "      <th>...</th>\n",
       "      <th>...</th>\n",
       "      <td>...</td>\n",
       "    </tr>\n",
       "    <tr>\n",
       "      <th>1498</th>\n",
       "      <th>10</th>\n",
       "      <td>42</td>\n",
       "    </tr>\n",
       "    <tr>\n",
       "      <th rowspan=\"4\" valign=\"top\">1499</th>\n",
       "      <th>9</th>\n",
       "      <td>11</td>\n",
       "    </tr>\n",
       "    <tr>\n",
       "      <th>10</th>\n",
       "      <td>48</td>\n",
       "    </tr>\n",
       "    <tr>\n",
       "      <th>11</th>\n",
       "      <td>59</td>\n",
       "    </tr>\n",
       "    <tr>\n",
       "      <th>12</th>\n",
       "      <td>66</td>\n",
       "    </tr>\n",
       "  </tbody>\n",
       "</table>\n",
       "<p>2717 rows × 1 columns</p>\n",
       "</div>"
      ],
      "text/plain": [
       "               month_message_count\n",
       "user_id month                     \n",
       "1000    5                       22\n",
       "        6                       60\n",
       "        7                       75\n",
       "        8                       81\n",
       "        9                       57\n",
       "...                            ...\n",
       "1498    10                      42\n",
       "1499    9                       11\n",
       "        10                      48\n",
       "        11                      59\n",
       "        12                      66\n",
       "\n",
       "[2717 rows x 1 columns]"
      ]
     },
     "execution_count": 50,
     "metadata": {},
     "output_type": "execute_result"
    }
   ],
   "source": [
    "data_messages['month'] = data_messages['message_date'].dt.month\n",
    "data_messages_month = data_messages.pivot_table(index=['user_id', 'month'], values=[\"message_date\"], aggfunc=['count'])\n",
    "data_messages_month.columns = ['month_message_count']\n",
    "data_messages_month"
   ]
  },
  {
   "cell_type": "code",
   "execution_count": 51,
   "metadata": {},
   "outputs": [
    {
     "data": {
      "text/html": [
       "<div>\n",
       "<style scoped>\n",
       "    .dataframe tbody tr th:only-of-type {\n",
       "        vertical-align: middle;\n",
       "    }\n",
       "\n",
       "    .dataframe tbody tr th {\n",
       "        vertical-align: top;\n",
       "    }\n",
       "\n",
       "    .dataframe thead th {\n",
       "        text-align: right;\n",
       "    }\n",
       "</style>\n",
       "<table border=\"1\" class=\"dataframe\">\n",
       "  <thead>\n",
       "    <tr style=\"text-align: right;\">\n",
       "      <th></th>\n",
       "      <th></th>\n",
       "      <th>month_mb_used</th>\n",
       "    </tr>\n",
       "    <tr>\n",
       "      <th>user_id</th>\n",
       "      <th>month</th>\n",
       "      <th></th>\n",
       "    </tr>\n",
       "  </thead>\n",
       "  <tbody>\n",
       "    <tr>\n",
       "      <th rowspan=\"5\" valign=\"top\">1000</th>\n",
       "      <th>5</th>\n",
       "      <td>2256</td>\n",
       "    </tr>\n",
       "    <tr>\n",
       "      <th>6</th>\n",
       "      <td>23257</td>\n",
       "    </tr>\n",
       "    <tr>\n",
       "      <th>7</th>\n",
       "      <td>14016</td>\n",
       "    </tr>\n",
       "    <tr>\n",
       "      <th>8</th>\n",
       "      <td>14070</td>\n",
       "    </tr>\n",
       "    <tr>\n",
       "      <th>9</th>\n",
       "      <td>14581</td>\n",
       "    </tr>\n",
       "    <tr>\n",
       "      <th>...</th>\n",
       "      <th>...</th>\n",
       "      <td>...</td>\n",
       "    </tr>\n",
       "    <tr>\n",
       "      <th>1498</th>\n",
       "      <th>10</th>\n",
       "      <td>20604</td>\n",
       "    </tr>\n",
       "    <tr>\n",
       "      <th rowspan=\"4\" valign=\"top\">1499</th>\n",
       "      <th>9</th>\n",
       "      <td>1848</td>\n",
       "    </tr>\n",
       "    <tr>\n",
       "      <th>10</th>\n",
       "      <td>17809</td>\n",
       "    </tr>\n",
       "    <tr>\n",
       "      <th>11</th>\n",
       "      <td>17984</td>\n",
       "    </tr>\n",
       "    <tr>\n",
       "      <th>12</th>\n",
       "      <td>13077</td>\n",
       "    </tr>\n",
       "  </tbody>\n",
       "</table>\n",
       "<p>3203 rows × 1 columns</p>\n",
       "</div>"
      ],
      "text/plain": [
       "               month_mb_used\n",
       "user_id month               \n",
       "1000    5               2256\n",
       "        6              23257\n",
       "        7              14016\n",
       "        8              14070\n",
       "        9              14581\n",
       "...                      ...\n",
       "1498    10             20604\n",
       "1499    9               1848\n",
       "        10             17809\n",
       "        11             17984\n",
       "        12             13077\n",
       "\n",
       "[3203 rows x 1 columns]"
      ]
     },
     "execution_count": 51,
     "metadata": {},
     "output_type": "execute_result"
    }
   ],
   "source": [
    "data_internet['month'] = data_internet['session_date'].dt.month\n",
    "data_internet_month = data_internet.pivot_table(index=['user_id', 'month'], values=[\"mb_used\"], aggfunc=['sum'])\n",
    "data_internet_month.columns = ['month_mb_used']\n",
    "data_internet_month"
   ]
  },
  {
   "cell_type": "code",
   "execution_count": 52,
   "metadata": {},
   "outputs": [
    {
     "name": "stdout",
     "output_type": "stream",
     "text": [
      "<class 'pandas.core.frame.DataFrame'>\n",
      "MultiIndex: 3174 entries, (1000, 5) to (1499, 12)\n",
      "Data columns (total 2 columns):\n",
      " #   Column               Non-Null Count  Dtype\n",
      "---  ------               --------------  -----\n",
      " 0   month_call_duration  3174 non-null   int64\n",
      " 1   month_call_count     3174 non-null   int64\n",
      "dtypes: int64(2)\n",
      "memory usage: 62.9 KB\n",
      "<class 'pandas.core.frame.DataFrame'>\n",
      "MultiIndex: 3203 entries, (1000, 5) to (1499, 12)\n",
      "Data columns (total 1 columns):\n",
      " #   Column         Non-Null Count  Dtype\n",
      "---  ------         --------------  -----\n",
      " 0   month_mb_used  3203 non-null   int64\n",
      "dtypes: int64(1)\n",
      "memory usage: 38.5 KB\n"
     ]
    }
   ],
   "source": [
    "data_calls_month.info()\n",
    "data_internet_month.info()"
   ]
  },
  {
   "cell_type": "code",
   "execution_count": 53,
   "metadata": {},
   "outputs": [
    {
     "data": {
      "text/html": [
       "<div>\n",
       "<style scoped>\n",
       "    .dataframe tbody tr th:only-of-type {\n",
       "        vertical-align: middle;\n",
       "    }\n",
       "\n",
       "    .dataframe tbody tr th {\n",
       "        vertical-align: top;\n",
       "    }\n",
       "\n",
       "    .dataframe thead th {\n",
       "        text-align: right;\n",
       "    }\n",
       "</style>\n",
       "<table border=\"1\" class=\"dataframe\">\n",
       "  <thead>\n",
       "    <tr style=\"text-align: right;\">\n",
       "      <th></th>\n",
       "      <th>user_id</th>\n",
       "      <th>month</th>\n",
       "      <th>month_call_count</th>\n",
       "      <th>month_call_duration</th>\n",
       "      <th>month_mb_used</th>\n",
       "      <th>month_message_count</th>\n",
       "      <th>tariff</th>\n",
       "      <th>city</th>\n",
       "    </tr>\n",
       "  </thead>\n",
       "  <tbody>\n",
       "    <tr>\n",
       "      <th>0</th>\n",
       "      <td>1000</td>\n",
       "      <td>5.0</td>\n",
       "      <td>22.0</td>\n",
       "      <td>159.0</td>\n",
       "      <td>2256.0</td>\n",
       "      <td>22.0</td>\n",
       "      <td>ultra</td>\n",
       "      <td>Краснодар</td>\n",
       "    </tr>\n",
       "    <tr>\n",
       "      <th>1</th>\n",
       "      <td>1000</td>\n",
       "      <td>6.0</td>\n",
       "      <td>43.0</td>\n",
       "      <td>172.0</td>\n",
       "      <td>23257.0</td>\n",
       "      <td>60.0</td>\n",
       "      <td>ultra</td>\n",
       "      <td>Краснодар</td>\n",
       "    </tr>\n",
       "    <tr>\n",
       "      <th>2</th>\n",
       "      <td>1000</td>\n",
       "      <td>7.0</td>\n",
       "      <td>47.0</td>\n",
       "      <td>340.0</td>\n",
       "      <td>14016.0</td>\n",
       "      <td>75.0</td>\n",
       "      <td>ultra</td>\n",
       "      <td>Краснодар</td>\n",
       "    </tr>\n",
       "    <tr>\n",
       "      <th>3</th>\n",
       "      <td>1000</td>\n",
       "      <td>8.0</td>\n",
       "      <td>52.0</td>\n",
       "      <td>408.0</td>\n",
       "      <td>14070.0</td>\n",
       "      <td>81.0</td>\n",
       "      <td>ultra</td>\n",
       "      <td>Краснодар</td>\n",
       "    </tr>\n",
       "    <tr>\n",
       "      <th>4</th>\n",
       "      <td>1000</td>\n",
       "      <td>9.0</td>\n",
       "      <td>58.0</td>\n",
       "      <td>466.0</td>\n",
       "      <td>14581.0</td>\n",
       "      <td>57.0</td>\n",
       "      <td>ultra</td>\n",
       "      <td>Краснодар</td>\n",
       "    </tr>\n",
       "    <tr>\n",
       "      <th>...</th>\n",
       "      <td>...</td>\n",
       "      <td>...</td>\n",
       "      <td>...</td>\n",
       "      <td>...</td>\n",
       "      <td>...</td>\n",
       "      <td>...</td>\n",
       "      <td>...</td>\n",
       "      <td>...</td>\n",
       "    </tr>\n",
       "    <tr>\n",
       "      <th>3211</th>\n",
       "      <td>1499</td>\n",
       "      <td>10.0</td>\n",
       "      <td>68.0</td>\n",
       "      <td>449.0</td>\n",
       "      <td>17809.0</td>\n",
       "      <td>48.0</td>\n",
       "      <td>smart</td>\n",
       "      <td>Пермь</td>\n",
       "    </tr>\n",
       "    <tr>\n",
       "      <th>3212</th>\n",
       "      <td>1499</td>\n",
       "      <td>11.0</td>\n",
       "      <td>74.0</td>\n",
       "      <td>612.0</td>\n",
       "      <td>17984.0</td>\n",
       "      <td>59.0</td>\n",
       "      <td>smart</td>\n",
       "      <td>Пермь</td>\n",
       "    </tr>\n",
       "    <tr>\n",
       "      <th>3213</th>\n",
       "      <td>1499</td>\n",
       "      <td>12.0</td>\n",
       "      <td>69.0</td>\n",
       "      <td>492.0</td>\n",
       "      <td>13077.0</td>\n",
       "      <td>66.0</td>\n",
       "      <td>smart</td>\n",
       "      <td>Пермь</td>\n",
       "    </tr>\n",
       "    <tr>\n",
       "      <th>3214</th>\n",
       "      <td>1128</td>\n",
       "      <td>NaN</td>\n",
       "      <td>NaN</td>\n",
       "      <td>NaN</td>\n",
       "      <td>NaN</td>\n",
       "      <td>NaN</td>\n",
       "      <td>ultra</td>\n",
       "      <td>Волжский</td>\n",
       "    </tr>\n",
       "    <tr>\n",
       "      <th>3215</th>\n",
       "      <td>1371</td>\n",
       "      <td>NaN</td>\n",
       "      <td>NaN</td>\n",
       "      <td>NaN</td>\n",
       "      <td>NaN</td>\n",
       "      <td>NaN</td>\n",
       "      <td>smart</td>\n",
       "      <td>Омск</td>\n",
       "    </tr>\n",
       "  </tbody>\n",
       "</table>\n",
       "<p>3216 rows × 8 columns</p>\n",
       "</div>"
      ],
      "text/plain": [
       "      user_id  month  month_call_count  month_call_duration  month_mb_used  \\\n",
       "0        1000    5.0              22.0                159.0         2256.0   \n",
       "1        1000    6.0              43.0                172.0        23257.0   \n",
       "2        1000    7.0              47.0                340.0        14016.0   \n",
       "3        1000    8.0              52.0                408.0        14070.0   \n",
       "4        1000    9.0              58.0                466.0        14581.0   \n",
       "...       ...    ...               ...                  ...            ...   \n",
       "3211     1499   10.0              68.0                449.0        17809.0   \n",
       "3212     1499   11.0              74.0                612.0        17984.0   \n",
       "3213     1499   12.0              69.0                492.0        13077.0   \n",
       "3214     1128    NaN               NaN                  NaN            NaN   \n",
       "3215     1371    NaN               NaN                  NaN            NaN   \n",
       "\n",
       "      month_message_count tariff       city  \n",
       "0                    22.0  ultra  Краснодар  \n",
       "1                    60.0  ultra  Краснодар  \n",
       "2                    75.0  ultra  Краснодар  \n",
       "3                    81.0  ultra  Краснодар  \n",
       "4                    57.0  ultra  Краснодар  \n",
       "...                   ...    ...        ...  \n",
       "3211                 48.0  smart      Пермь  \n",
       "3212                 59.0  smart      Пермь  \n",
       "3213                 66.0  smart      Пермь  \n",
       "3214                  NaN  ultra   Волжский  \n",
       "3215                  NaN  smart       Омск  \n",
       "\n",
       "[3216 rows x 8 columns]"
      ]
     },
     "execution_count": 53,
     "metadata": {},
     "output_type": "execute_result"
    }
   ],
   "source": [
    "data_users_info = data_calls_month.combine_first(data_messages_month)\n",
    "data_users_info = data_users_info.combine_first(data_internet_month)\n",
    "\n",
    "data_users_info = data_users_info.reset_index(level = 'month')\n",
    "data_users_info_with_tariff = data_users_info.merge(data_users[['user_id', 'tariff', 'city']], on='user_id', how='outer')\n",
    "\n",
    "data_users_info_with_tariff"
   ]
  },
  {
   "cell_type": "code",
   "execution_count": 54,
   "metadata": {},
   "outputs": [
    {
     "name": "stdout",
     "output_type": "stream",
     "text": [
      "<class 'pandas.core.frame.DataFrame'>\n",
      "Int64Index: 3214 entries, 1000 to 1499\n",
      "Data columns (total 5 columns):\n",
      " #   Column               Non-Null Count  Dtype  \n",
      "---  ------               --------------  -----  \n",
      " 0   month                3214 non-null   int64  \n",
      " 1   month_call_count     3174 non-null   float64\n",
      " 2   month_call_duration  3174 non-null   float64\n",
      " 3   month_mb_used        3203 non-null   float64\n",
      " 4   month_message_count  2717 non-null   float64\n",
      "dtypes: float64(4), int64(1)\n",
      "memory usage: 150.7 KB\n"
     ]
    }
   ],
   "source": [
    "data_users_info.info()"
   ]
  },
  {
   "cell_type": "code",
   "execution_count": 55,
   "metadata": {
    "scrolled": true
   },
   "outputs": [
    {
     "name": "stdout",
     "output_type": "stream",
     "text": [
      "<class 'pandas.core.frame.DataFrame'>\n",
      "Int64Index: 3216 entries, 0 to 3215\n",
      "Data columns (total 8 columns):\n",
      " #   Column               Non-Null Count  Dtype  \n",
      "---  ------               --------------  -----  \n",
      " 0   user_id              3216 non-null   int64  \n",
      " 1   month                3214 non-null   float64\n",
      " 2   month_call_count     3174 non-null   float64\n",
      " 3   month_call_duration  3174 non-null   float64\n",
      " 4   month_mb_used        3203 non-null   float64\n",
      " 5   month_message_count  2717 non-null   float64\n",
      " 6   tariff               3216 non-null   object \n",
      " 7   city                 3216 non-null   object \n",
      "dtypes: float64(5), int64(1), object(2)\n",
      "memory usage: 226.1+ KB\n"
     ]
    }
   ],
   "source": [
    "data_users_info_with_tariff.info()"
   ]
  },
  {
   "cell_type": "code",
   "execution_count": 56,
   "metadata": {},
   "outputs": [],
   "source": [
    "def calculate_under_limit(row, current_tariff_data, row_filed_name, tariff_field_name):\n",
    "    result = 0\n",
    "    if (row[row_filed_name] > current_tariff_data[tariff_field_name]):\n",
    "        result = row[row_filed_name] - current_tariff_data[tariff_field_name]\n",
    "        \n",
    "    return result\n",
    "\n",
    "def calculate_proceeds(row):\n",
    "    tariff_index_dict = {'smart' : 0, 'ultra': 1}\n",
    "    tariff_index = tariff_index_dict[row['tariff']]\n",
    "    current_tariff_data = data_tariffs.loc[tariff_index]\n",
    "    \n",
    "    minutes_under_limit = calculate_under_limit(row, current_tariff_data, 'month_call_duration', 'minutes_included')\n",
    "    mb_under_limit = calculate_under_limit(row, current_tariff_data, 'month_mb_used', 'mb_per_month_included')\n",
    "    messages_under_limit = calculate_under_limit(row, current_tariff_data, 'month_message_count', 'messages_included')\n",
    "    proceeds_by_traffic = int(math.ceil(mb_under_limit / 1024) * current_tariff_data['rub_per_gb'])\n",
    "    \n",
    "    result = (minutes_under_limit * current_tariff_data['rub_per_minute'] \n",
    "              + messages_under_limit * current_tariff_data['rub_per_message']\n",
    "              + proceeds_by_traffic\n",
    "              + current_tariff_data['rub_monthly_fee'])\n",
    "    \n",
    "    return result;\n",
    "\n",
    "data_users_info_with_tariff['proceeds'] = data_users_info_with_tariff.apply(calculate_proceeds, axis=1)"
   ]
  },
  {
   "cell_type": "code",
   "execution_count": 57,
   "metadata": {},
   "outputs": [],
   "source": [
    "data_users_info_with_tariff = data_users_info_with_tariff.fillna(0)"
   ]
  },
  {
   "cell_type": "code",
   "execution_count": 58,
   "metadata": {},
   "outputs": [
    {
     "data": {
      "text/html": [
       "<div>\n",
       "<style scoped>\n",
       "    .dataframe tbody tr th:only-of-type {\n",
       "        vertical-align: middle;\n",
       "    }\n",
       "\n",
       "    .dataframe tbody tr th {\n",
       "        vertical-align: top;\n",
       "    }\n",
       "\n",
       "    .dataframe thead th {\n",
       "        text-align: right;\n",
       "    }\n",
       "</style>\n",
       "<table border=\"1\" class=\"dataframe\">\n",
       "  <thead>\n",
       "    <tr style=\"text-align: right;\">\n",
       "      <th></th>\n",
       "      <th>user_id</th>\n",
       "      <th>month</th>\n",
       "      <th>month_call_count</th>\n",
       "      <th>month_call_duration</th>\n",
       "      <th>month_mb_used</th>\n",
       "      <th>month_message_count</th>\n",
       "      <th>tariff</th>\n",
       "      <th>city</th>\n",
       "      <th>proceeds</th>\n",
       "    </tr>\n",
       "  </thead>\n",
       "  <tbody>\n",
       "    <tr>\n",
       "      <th>0</th>\n",
       "      <td>1000</td>\n",
       "      <td>5.0</td>\n",
       "      <td>22.0</td>\n",
       "      <td>159.0</td>\n",
       "      <td>2256.0</td>\n",
       "      <td>22.0</td>\n",
       "      <td>ultra</td>\n",
       "      <td>Краснодар</td>\n",
       "      <td>1950.0</td>\n",
       "    </tr>\n",
       "    <tr>\n",
       "      <th>1</th>\n",
       "      <td>1000</td>\n",
       "      <td>6.0</td>\n",
       "      <td>43.0</td>\n",
       "      <td>172.0</td>\n",
       "      <td>23257.0</td>\n",
       "      <td>60.0</td>\n",
       "      <td>ultra</td>\n",
       "      <td>Краснодар</td>\n",
       "      <td>1950.0</td>\n",
       "    </tr>\n",
       "    <tr>\n",
       "      <th>2</th>\n",
       "      <td>1000</td>\n",
       "      <td>7.0</td>\n",
       "      <td>47.0</td>\n",
       "      <td>340.0</td>\n",
       "      <td>14016.0</td>\n",
       "      <td>75.0</td>\n",
       "      <td>ultra</td>\n",
       "      <td>Краснодар</td>\n",
       "      <td>1950.0</td>\n",
       "    </tr>\n",
       "    <tr>\n",
       "      <th>3</th>\n",
       "      <td>1000</td>\n",
       "      <td>8.0</td>\n",
       "      <td>52.0</td>\n",
       "      <td>408.0</td>\n",
       "      <td>14070.0</td>\n",
       "      <td>81.0</td>\n",
       "      <td>ultra</td>\n",
       "      <td>Краснодар</td>\n",
       "      <td>1950.0</td>\n",
       "    </tr>\n",
       "    <tr>\n",
       "      <th>4</th>\n",
       "      <td>1000</td>\n",
       "      <td>9.0</td>\n",
       "      <td>58.0</td>\n",
       "      <td>466.0</td>\n",
       "      <td>14581.0</td>\n",
       "      <td>57.0</td>\n",
       "      <td>ultra</td>\n",
       "      <td>Краснодар</td>\n",
       "      <td>1950.0</td>\n",
       "    </tr>\n",
       "    <tr>\n",
       "      <th>...</th>\n",
       "      <td>...</td>\n",
       "      <td>...</td>\n",
       "      <td>...</td>\n",
       "      <td>...</td>\n",
       "      <td>...</td>\n",
       "      <td>...</td>\n",
       "      <td>...</td>\n",
       "      <td>...</td>\n",
       "      <td>...</td>\n",
       "    </tr>\n",
       "    <tr>\n",
       "      <th>3211</th>\n",
       "      <td>1499</td>\n",
       "      <td>10.0</td>\n",
       "      <td>68.0</td>\n",
       "      <td>449.0</td>\n",
       "      <td>17809.0</td>\n",
       "      <td>48.0</td>\n",
       "      <td>smart</td>\n",
       "      <td>Пермь</td>\n",
       "      <td>1150.0</td>\n",
       "    </tr>\n",
       "    <tr>\n",
       "      <th>3212</th>\n",
       "      <td>1499</td>\n",
       "      <td>11.0</td>\n",
       "      <td>74.0</td>\n",
       "      <td>612.0</td>\n",
       "      <td>17984.0</td>\n",
       "      <td>59.0</td>\n",
       "      <td>smart</td>\n",
       "      <td>Пермь</td>\n",
       "      <td>1513.0</td>\n",
       "    </tr>\n",
       "    <tr>\n",
       "      <th>3213</th>\n",
       "      <td>1499</td>\n",
       "      <td>12.0</td>\n",
       "      <td>69.0</td>\n",
       "      <td>492.0</td>\n",
       "      <td>13077.0</td>\n",
       "      <td>66.0</td>\n",
       "      <td>smart</td>\n",
       "      <td>Пермь</td>\n",
       "      <td>598.0</td>\n",
       "    </tr>\n",
       "    <tr>\n",
       "      <th>3214</th>\n",
       "      <td>1128</td>\n",
       "      <td>0.0</td>\n",
       "      <td>0.0</td>\n",
       "      <td>0.0</td>\n",
       "      <td>0.0</td>\n",
       "      <td>0.0</td>\n",
       "      <td>ultra</td>\n",
       "      <td>Волжский</td>\n",
       "      <td>1950.0</td>\n",
       "    </tr>\n",
       "    <tr>\n",
       "      <th>3215</th>\n",
       "      <td>1371</td>\n",
       "      <td>0.0</td>\n",
       "      <td>0.0</td>\n",
       "      <td>0.0</td>\n",
       "      <td>0.0</td>\n",
       "      <td>0.0</td>\n",
       "      <td>smart</td>\n",
       "      <td>Омск</td>\n",
       "      <td>550.0</td>\n",
       "    </tr>\n",
       "  </tbody>\n",
       "</table>\n",
       "<p>3216 rows × 9 columns</p>\n",
       "</div>"
      ],
      "text/plain": [
       "      user_id  month  month_call_count  month_call_duration  month_mb_used  \\\n",
       "0        1000    5.0              22.0                159.0         2256.0   \n",
       "1        1000    6.0              43.0                172.0        23257.0   \n",
       "2        1000    7.0              47.0                340.0        14016.0   \n",
       "3        1000    8.0              52.0                408.0        14070.0   \n",
       "4        1000    9.0              58.0                466.0        14581.0   \n",
       "...       ...    ...               ...                  ...            ...   \n",
       "3211     1499   10.0              68.0                449.0        17809.0   \n",
       "3212     1499   11.0              74.0                612.0        17984.0   \n",
       "3213     1499   12.0              69.0                492.0        13077.0   \n",
       "3214     1128    0.0               0.0                  0.0            0.0   \n",
       "3215     1371    0.0               0.0                  0.0            0.0   \n",
       "\n",
       "      month_message_count tariff       city  proceeds  \n",
       "0                    22.0  ultra  Краснодар    1950.0  \n",
       "1                    60.0  ultra  Краснодар    1950.0  \n",
       "2                    75.0  ultra  Краснодар    1950.0  \n",
       "3                    81.0  ultra  Краснодар    1950.0  \n",
       "4                    57.0  ultra  Краснодар    1950.0  \n",
       "...                   ...    ...        ...       ...  \n",
       "3211                 48.0  smart      Пермь    1150.0  \n",
       "3212                 59.0  smart      Пермь    1513.0  \n",
       "3213                 66.0  smart      Пермь     598.0  \n",
       "3214                  0.0  ultra   Волжский    1950.0  \n",
       "3215                  0.0  smart       Омск     550.0  \n",
       "\n",
       "[3216 rows x 9 columns]"
      ]
     },
     "execution_count": 58,
     "metadata": {},
     "output_type": "execute_result"
    }
   ],
   "source": [
    "data_users_info_with_tariff"
   ]
  },
  {
   "cell_type": "markdown",
   "metadata": {},
   "source": [
    "### Conclusions on the calculation of additional parameters\n",
    "The data has been prepared for further analysis, all the required values have been calculated and rounded according to the billing conditions."
   ]
  },
  {
   "cell_type": "markdown",
   "metadata": {},
   "source": [
    "## Data analysis\n",
    "Let's complete a few points during the analysis\n",
    "1. How many minutes of conversation, messages and how much Internet traffic is required by users of each tariff per month.\n",
    "2. Calculate the mean, variance and standard deviation.\n",
    "3. Let's build histograms. Let us describe the distributions."
   ]
  },
  {
   "cell_type": "code",
   "execution_count": 59,
   "metadata": {},
   "outputs": [],
   "source": [
    "data_smart = data_users_info_with_tariff.query('tariff == \"smart\"')\n",
    "data_ultra = data_users_info_with_tariff.query('tariff == \"ultra\"')"
   ]
  },
  {
   "cell_type": "code",
   "execution_count": 60,
   "metadata": {},
   "outputs": [
    {
     "data": {
      "text/plain": [
       "<AxesSubplot:>"
      ]
     },
     "execution_count": 60,
     "metadata": {},
     "output_type": "execute_result"
    },
    {
     "data": {
      "image/png": "[encoded data removed]",
      "text/plain": [
       "<Figure size 1080x504 with 1 Axes>"
      ]
     },
     "metadata": {
      "needs_background": "light"
     },
     "output_type": "display_data"
    }
   ],
   "source": [
    "data_smart['month_mb_used'].hist(bins=[0,1000,2000,3000,4000,5000,6000,7000,8000,9000,10000,11000,12000,13000,14000,15000,16000,17000,18000,19000,20000, 21000,22000,23000,24000,25000,26000,27000,28000,29000,30000,31000,32000,33000,34000,35000,36000], figsize=(15,7), alpha=0.9)\n",
    "data_ultra['month_mb_used'].hist(bins=[0,5000,10000,15000,20000,25000,30000,35000,40000], figsize=(15,7), alpha=0.4)"
   ]
  },
  {
   "cell_type": "code",
   "execution_count": 61,
   "metadata": {},
   "outputs": [
    {
     "data": {
      "text/plain": [
       "<AxesSubplot:>"
      ]
     },
     "execution_count": 61,
     "metadata": {},
     "output_type": "execute_result"
    },
    {
     "data": {
      "image/png": "[encoded data removed]",
      "text/plain": [
       "<Figure size 1080x504 with 1 Axes>"
      ]
     },
     "metadata": {
      "needs_background": "light"
     },
     "output_type": "display_data"
    }
   ],
   "source": [
    "data_smart['month_call_duration'].hist(bins=[0, 50, 100, 150, 200, 250, 300, 350, 400, 450, 500, 550, 600, 650, 700, 750, 800, 850, 900, 950, 1000, 1050, 1100, 1150, 1200, 1400], figsize=(15,7), alpha=0.9)\n",
    "data_ultra['month_call_duration'].hist(bins=[0, 200, 400, 600, 800, 1000, 1200, 1400], figsize=(15,7), alpha=0.4)"
   ]
  },
  {
   "cell_type": "code",
   "execution_count": 62,
   "metadata": {},
   "outputs": [
    {
     "data": {
      "text/plain": [
       "<AxesSubplot:>"
      ]
     },
     "execution_count": 62,
     "metadata": {},
     "output_type": "execute_result"
    },
    {
     "data": {
      "image/png": "[encoded data removed]",
      "text/plain": [
       "<Figure size 1080x504 with 1 Axes>"
      ]
     },
     "metadata": {
      "needs_background": "light"
     },
     "output_type": "display_data"
    }
   ],
   "source": [
    "data_smart['month_message_count'].hist(bins=[0, 10, 20, 30, 40, 50, 60, 70, 80, 90, 100, 110, 120, 130, 140, 150], figsize=(15,7), alpha=0.9)\n",
    "data_ultra['month_message_count'].hist(bins=[0, 30, 60, 90, 120, 150, 180, 210, 240], figsize=(15,7), alpha=0.4)"
   ]
  },
  {
   "cell_type": "markdown",
   "metadata": {},
   "source": [
    "### Intermediate conclusions on histograms\n",
    "1. Data on Internet traffic and the number of minutes have a normal distribution\n",
    "2. The number of minutes for both tariffs is skewed to the left\n",
    "3. The amount of traffic for the ultra tariff is slightly skewed to the right\n",
    "4. The number of messages is described by the Poisson distribution"
   ]
  },
  {
   "cell_type": "code",
   "execution_count": 63,
   "metadata": {},
   "outputs": [
    {
     "name": "stdout",
     "output_type": "stream",
     "text": [
      "TARIFF: SMART\n",
      "month_mb_used:\n",
      "AVG =  16221.91\n",
      "MED =  16529.0\n",
      "VAR =  34648523.3\n",
      "STD =  5886.3\n",
      "\n",
      "month_call_duration:\n",
      "AVG =  417.75\n",
      "MED =  421.5\n",
      "VAR =  36281.39\n",
      "STD =  190.48\n",
      "\n",
      "month_message_count:\n",
      "AVG =  33.37\n",
      "MED =  28.0\n",
      "VAR =  796.96\n",
      "STD =  28.23\n",
      "\n",
      "proceeds:\n",
      "AVG =  1294.31\n",
      "MED =  1037.0\n",
      "VAR =  673877.62\n",
      "STD =  820.9\n",
      "\n"
     ]
    }
   ],
   "source": [
    "def print_params_data(data_users_info_with_tariff):\n",
    "    params_list = ['month_mb_used', 'month_call_duration', 'month_message_count', 'proceeds']\n",
    "\n",
    "    for param in params_list:\n",
    "        print(param + ':')\n",
    "        print('AVG = ', round(data_users_info_with_tariff[param].mean(), 2)) \n",
    "        print('MED = ', round(data_users_info_with_tariff[param].median(), 2)) \n",
    "        print('VAR = ', round(np.var(data_users_info_with_tariff[param], ddof=1), 2)) \n",
    "        print('STD = ', round(np.std(data_users_info_with_tariff[param], ddof=1), 2)) \n",
    "        print()\n",
    "\n",
    "print('TARIFF: SMART')\n",
    "print_params_data(data_smart)"
   ]
  },
  {
   "cell_type": "code",
   "execution_count": 64,
   "metadata": {},
   "outputs": [
    {
     "name": "stdout",
     "output_type": "stream",
     "text": [
      "TARIFF: ULTRA\n",
      "month_mb_used:\n",
      "AVG =  19467.14\n",
      "MED =  19320.0\n",
      "VAR =  102217264.28\n",
      "STD =  10110.26\n",
      "\n",
      "month_call_duration:\n",
      "AVG =  526.09\n",
      "MED =  518.0\n",
      "VAR =  101052.49\n",
      "STD =  317.89\n",
      "\n",
      "month_message_count:\n",
      "AVG =  49.31\n",
      "MED =  38.0\n",
      "VAR =  2285.42\n",
      "STD =  47.81\n",
      "\n",
      "proceeds:\n",
      "AVG =  2070.94\n",
      "MED =  1950.0\n",
      "VAR =  143360.43\n",
      "STD =  378.63\n",
      "\n"
     ]
    }
   ],
   "source": [
    "print('TARIFF: ULTRA')\n",
    "print_params_data(data_ultra)"
   ]
  },
  {
   "cell_type": "markdown",
   "metadata": {},
   "source": [
    "### Data Analysis Conclusions\n",
    "The median is not significantly different from the mean, which means there are no outliers in the data and the mean can be used.\n",
    "Users of the ultra tariff are more active in using the possibilities of their tariff, and smart users often do not fit into the restrictions of their tariff and overpay.\n",
    "\n",
    "How many minutes of conversation, how many messages and how much Internet traffic do users of each tariff need per month?\n",
    "\n",
    "On average, then:\n",
    "\n",
    "SMART\n",
    "\n",
    "Traffic: 16.2 GB\n",
    "\n",
    "Call duration: 419 minutes\n",
    "\n",
    "Messages: 39\n",
    "\n",
    "ULTRA\n",
    "\n",
    "Traffic: 19.7 GB\n",
    "\n",
    "Call duration: 545 minutes\n",
    "\n",
    "Messages: 61"
   ]
  },
  {
   "cell_type": "markdown",
   "metadata": {},
   "source": [
    "Let's calculate the approximate revenue from tariffs to support the final conclusions with figures:"
   ]
  },
  {
   "cell_type": "code",
   "execution_count": 65,
   "metadata": {},
   "outputs": [
    {
     "name": "stdout",
     "output_type": "stream",
     "text": [
      "1294.3053811659192\n",
      "2070.943204868154\n"
     ]
    }
   ],
   "source": [
    "print(data_smart['proceeds'].mean())\n",
    "print(data_ultra['proceeds'].mean())"
   ]
  },
  {
   "cell_type": "markdown",
   "metadata": {},
   "source": [
    "## Hypothesis testing\n",
    "Let's test the following hypotheses:\n",
    "\n",
    "• the average revenue of users of Ultra and Smart tariffs differ;\n",
    "\n",
    "• The average revenue of users from Moscow differs from the revenue of users from other regions."
   ]
  },
  {
   "cell_type": "markdown",
   "metadata": {},
   "source": [
    "### Hypotheses H0 and H1 on the average revenue of \"Ultra\" and \"Smart\" tariffs\n",
    "\n",
    "Hypothesis H0: The average revenue from users of the \"Smart\" and \"Ultra\" tariffs is the same\n",
    "\n",
    "Hypothesis H1: The revenue from users of the \"Smart\" tariff and the \"Ultra\" tariff differs"
   ]
  },
  {
   "cell_type": "code",
   "execution_count": 66,
   "metadata": {},
   "outputs": [
    {
     "name": "stdout",
     "output_type": "stream",
     "text": [
      "Можем отвергнуть нулевую гипотезу, выручка от пользователей тарифа \"Смарт\" и тарифа \"Ультра\" различается 1.2414049931248708e-246\n"
     ]
    }
   ],
   "source": [
    "H0 = 'Не можем отвергнуть гипотизу - средняя выручка от пользователей тарифа \"Смарт\" и тарифа \"Ультра\" одинакова'\n",
    "H1 = 'Можем отвергнуть нулевую гипотезу, выручка от пользователей тарифа \"Смарт\" и тарифа \"Ультра\" различается'\n",
    "from scipy import stats as st\n",
    "alpha = 0.05 \n",
    "results = st.ttest_ind(data_smart['proceeds'], data_ultra['proceeds'], equal_var = False)\n",
    "\n",
    "if (results.pvalue < alpha):\n",
    "    print(H1, results.pvalue)\n",
    "else:\n",
    "    print(H0, results.pvalue)"
   ]
  },
  {
   "cell_type": "markdown",
   "metadata": {},
   "source": [
    "### Hypotheses H0 and H1 about average revenue in Moscow and other regions\n",
    "Hypothesis H0: The average revenue from users in Moscow and the regions is the same\n",
    "\n",
    "Hypothesis H1: The average revenue from users in Moscow and regions differs"
   ]
  },
  {
   "cell_type": "code",
   "execution_count": 67,
   "metadata": {},
   "outputs": [
    {
     "name": "stdout",
     "output_type": "stream",
     "text": [
      "Не можем отвергнуть гипотизу - cредняя выручка от пользователей Москвы и других регионов одинакова 0.5277299573181309\n"
     ]
    }
   ],
   "source": [
    "data_moscow = data_users_info_with_tariff.query('city == \"Москва\"')\n",
    "data_other = data_users_info_with_tariff.query('city != \"Москва\"')\n",
    "H0 = 'Не можем отвергнуть гипотизу - cредняя выручка от пользователей Москвы и других регионов одинакова'\n",
    "H1 = 'Можем отвергнуть нулевую гипотезу, cредняя выручка от пользователей Москвы и других регионов различается'\n",
    "\n",
    "results = st.ttest_ind(data_moscow['proceeds'], data_other['proceeds'], equal_var = True)\n",
    "\n",
    "if (results.pvalue < alpha):\n",
    "    print(H1, results.pvalue)\n",
    "else:\n",
    "    print(H0, results.pvalue)"
   ]
  },
  {
   "cell_type": "markdown",
   "metadata": {},
   "source": [
    "### Conclusion on hypotheses\n",
    "\n",
    "1. It is possible to reject the hypothesis about the equality of user revenues by tariffs, however, the degree of this difference and the sign need to be investigated further.\n",
    "2. With a high degree of probability, the average revenue of users in Moscow and the regions turned out to be the same."
   ]
  },
  {
   "cell_type": "markdown",
   "metadata": {},
   "source": [
    "# Final conclusion of the study\n",
    "We were provided with the data of the mobile operator \"Megaline\" on two tariff plans: \"Smart\" and \"Ultra\".\n",
    "The purpose of the study was to identify for the commercial department which tariff brings more profit and which tariff is better.\n",
    "We had data on 500 Megaline users: who they are, where they are from, what tariff they use, how many calls and messages each sent in 2018.\n",
    "\n",
    "The data was preprocessed (Duplicates were not found. The redundant column Unnamed was removed. Time and date values ​​were converted to the correct format.)\n",
    "\n",
    "Additional calculations were made for each user (number of calls made and spent minutes of conversation by month; number of messages sent by month; amount of Internet traffic spent by month; monthly revenue from each user.)\n",
    "\n",
    "An analysis of some parameters was carried out (how many minutes of conversation, messages and how much Internet traffic is required by users of each tariff per month, the average, variance and standard deviation were calculated, histograms were built).\n",
    "\n",
    "In terms of average revenue, the best tariff is \"Ultra\" (2073 rubles), the revenue for the \"Smart\" tariff is an average of 1305 rubles.\n",
    "However, for the \"Smart\" tariff, users more often overpay for additional communication services, since they do not fit into the limits. And the Ultra tariff is overkill in terms of providing more services than most users use, so they also overpay.\n",
    "Recommendations for the marketing department: the \"Ultra\" tariff brings more money."
   ]
  },
  {
   "cell_type": "markdown",
   "metadata": {},
   "source": [
    "# Additional findings from the study\n",
    "Tariff revenue is not equal, you can further study this issue.\n",
    "\n",
    "The average revenue by regions of Russia does not differ.\n",
    "\n",
    "Users use the following volume of services on average per month:\n",
    "\n",
    "SMART\n",
    "\n",
    "Traffic: 16.2 GB\n",
    "\n",
    "Call duration: 419 minutes\n",
    "\n",
    "Messages: 39\n",
    "\n",
    "ULTRA\n",
    "\n",
    "Traffic: 19.7 GB\n",
    "\n",
    "Call duration: 545 minutes\n",
    "\n",
    "Messages: 61"
   ]
  }
 ],
 "metadata": {
  "ExecuteTimeLog": [
   {
    "duration": 1177,
    "start_time": "2022-04-08T06:35:15.990Z"
   },
   {
    "duration": 413,
    "start_time": "2022-04-08T06:36:04.567Z"
   },
   {
    "duration": 64,
    "start_time": "2022-04-08T06:36:42.687Z"
   },
   {
    "duration": 64,
    "start_time": "2022-04-08T06:36:49.796Z"
   },
   {
    "duration": 16,
    "start_time": "2022-04-08T08:27:56.303Z"
   },
   {
    "duration": 8,
    "start_time": "2022-04-08T08:28:19.496Z"
   },
   {
    "duration": 8,
    "start_time": "2022-04-08T08:28:35.610Z"
   },
   {
    "duration": 7,
    "start_time": "2022-04-08T08:28:49.250Z"
   },
   {
    "duration": 9,
    "start_time": "2022-04-08T08:29:02.975Z"
   },
   {
    "duration": 69,
    "start_time": "2022-04-08T08:32:34.068Z"
   },
   {
    "duration": 61,
    "start_time": "2022-04-08T08:32:46.906Z"
   },
   {
    "duration": 10,
    "start_time": "2022-04-08T08:32:52.375Z"
   },
   {
    "duration": 10,
    "start_time": "2022-04-08T08:33:40.540Z"
   },
   {
    "duration": 4,
    "start_time": "2022-04-08T08:34:38.314Z"
   },
   {
    "duration": 7,
    "start_time": "2022-04-08T08:34:59.363Z"
   },
   {
    "duration": 197,
    "start_time": "2022-04-08T08:35:08.898Z"
   },
   {
    "duration": 2,
    "start_time": "2022-04-08T08:35:53.247Z"
   },
   {
    "duration": 402,
    "start_time": "2022-04-08T08:35:53.251Z"
   },
   {
    "duration": 68,
    "start_time": "2022-04-08T08:35:53.655Z"
   },
   {
    "duration": 9,
    "start_time": "2022-04-08T08:35:53.725Z"
   },
   {
    "duration": 10,
    "start_time": "2022-04-08T08:35:53.736Z"
   },
   {
    "duration": 12,
    "start_time": "2022-04-08T08:35:53.747Z"
   },
   {
    "duration": 9,
    "start_time": "2022-04-08T08:35:53.760Z"
   },
   {
    "duration": 8,
    "start_time": "2022-04-08T08:35:53.781Z"
   },
   {
    "duration": 69,
    "start_time": "2022-04-08T08:35:53.790Z"
   },
   {
    "duration": 26,
    "start_time": "2022-04-08T08:35:53.861Z"
   },
   {
    "duration": 4,
    "start_time": "2022-04-08T08:35:53.888Z"
   },
   {
    "duration": 176,
    "start_time": "2022-04-08T08:35:53.893Z"
   },
   {
    "duration": 147,
    "start_time": "2022-04-08T08:36:22.656Z"
   },
   {
    "duration": 2,
    "start_time": "2022-04-08T12:12:45.727Z"
   },
   {
    "duration": 434,
    "start_time": "2022-04-08T12:12:45.731Z"
   },
   {
    "duration": 71,
    "start_time": "2022-04-08T12:12:46.167Z"
   },
   {
    "duration": 10,
    "start_time": "2022-04-08T12:12:46.240Z"
   },
   {
    "duration": 11,
    "start_time": "2022-04-08T12:12:46.252Z"
   },
   {
    "duration": 18,
    "start_time": "2022-04-08T12:12:46.264Z"
   },
   {
    "duration": 10,
    "start_time": "2022-04-08T12:12:46.284Z"
   },
   {
    "duration": 11,
    "start_time": "2022-04-08T12:12:46.296Z"
   },
   {
    "duration": 78,
    "start_time": "2022-04-08T12:12:46.308Z"
   },
   {
    "duration": 8,
    "start_time": "2022-04-08T12:12:46.388Z"
   },
   {
    "duration": 3,
    "start_time": "2022-04-08T12:12:46.398Z"
   },
   {
    "duration": 159,
    "start_time": "2022-04-08T12:12:46.403Z"
   },
   {
    "duration": 88,
    "start_time": "2022-04-08T12:12:46.563Z"
   },
   {
    "duration": 93,
    "start_time": "2022-04-08T12:13:38.581Z"
   },
   {
    "duration": 33,
    "start_time": "2022-04-08T12:16:39.667Z"
   },
   {
    "duration": 37,
    "start_time": "2022-04-08T12:17:13.583Z"
   },
   {
    "duration": 48,
    "start_time": "2022-04-08T12:18:46.851Z"
   },
   {
    "duration": 29,
    "start_time": "2022-04-08T12:18:55.101Z"
   },
   {
    "duration": 12,
    "start_time": "2022-04-08T12:49:36.668Z"
   },
   {
    "duration": 26,
    "start_time": "2022-04-08T12:49:49.752Z"
   },
   {
    "duration": 18,
    "start_time": "2022-04-08T12:50:24.772Z"
   },
   {
    "duration": 18,
    "start_time": "2022-04-08T12:50:50.589Z"
   },
   {
    "duration": 3,
    "start_time": "2022-04-08T12:51:12.921Z"
   },
   {
    "duration": 424,
    "start_time": "2022-04-08T12:51:12.925Z"
   },
   {
    "duration": 102,
    "start_time": "2022-04-08T12:51:13.350Z"
   },
   {
    "duration": 10,
    "start_time": "2022-04-08T12:51:13.454Z"
   },
   {
    "duration": 21,
    "start_time": "2022-04-08T12:51:13.465Z"
   },
   {
    "duration": 15,
    "start_time": "2022-04-08T12:51:13.491Z"
   },
   {
    "duration": 10,
    "start_time": "2022-04-08T12:51:13.508Z"
   },
   {
    "duration": 14,
    "start_time": "2022-04-08T12:51:13.520Z"
   },
   {
    "duration": 131,
    "start_time": "2022-04-08T12:51:13.537Z"
   },
   {
    "duration": 20,
    "start_time": "2022-04-08T12:51:13.671Z"
   },
   {
    "duration": 3,
    "start_time": "2022-04-08T12:51:13.693Z"
   },
   {
    "duration": 172,
    "start_time": "2022-04-08T12:51:13.698Z"
   },
   {
    "duration": 102,
    "start_time": "2022-04-08T12:51:13.871Z"
   },
   {
    "duration": 70,
    "start_time": "2022-04-08T12:51:13.974Z"
   },
   {
    "duration": 53,
    "start_time": "2022-04-08T12:51:14.046Z"
   },
   {
    "duration": 40,
    "start_time": "2022-04-08T12:51:14.102Z"
   },
   {
    "duration": 41,
    "start_time": "2022-04-08T12:51:14.143Z"
   },
   {
    "duration": 29,
    "start_time": "2022-04-08T12:51:14.186Z"
   },
   {
    "duration": 559,
    "start_time": "2022-04-08T12:51:56.829Z"
   },
   {
    "duration": 528,
    "start_time": "2022-04-08T12:52:30.737Z"
   },
   {
    "duration": 24,
    "start_time": "2022-04-08T12:56:25.120Z"
   },
   {
    "duration": 7,
    "start_time": "2022-04-08T12:56:51.338Z"
   },
   {
    "duration": 28,
    "start_time": "2022-04-08T12:57:10.179Z"
   },
   {
    "duration": 24,
    "start_time": "2022-04-08T12:57:32.294Z"
   },
   {
    "duration": 23,
    "start_time": "2022-04-08T12:57:51.258Z"
   },
   {
    "duration": 10,
    "start_time": "2022-04-08T12:58:07.419Z"
   },
   {
    "duration": 672,
    "start_time": "2022-04-08T12:58:31.694Z"
   },
   {
    "duration": 189,
    "start_time": "2022-04-08T12:58:37.626Z"
   },
   {
    "duration": 199,
    "start_time": "2022-04-08T12:58:46.125Z"
   },
   {
    "duration": 214,
    "start_time": "2022-04-08T12:59:00.462Z"
   },
   {
    "duration": 180,
    "start_time": "2022-04-08T12:59:14.698Z"
   },
   {
    "duration": 237,
    "start_time": "2022-04-08T12:59:20.752Z"
   },
   {
    "duration": 194,
    "start_time": "2022-04-08T13:04:17.084Z"
   },
   {
    "duration": 190,
    "start_time": "2022-04-08T13:04:30.602Z"
   },
   {
    "duration": 180,
    "start_time": "2022-04-08T13:05:13.504Z"
   },
   {
    "duration": 174,
    "start_time": "2022-04-08T13:05:22.311Z"
   },
   {
    "duration": 359,
    "start_time": "2022-04-08T13:05:32.962Z"
   },
   {
    "duration": 170,
    "start_time": "2022-04-08T13:05:59.278Z"
   },
   {
    "duration": 217,
    "start_time": "2022-04-08T13:06:30.612Z"
   },
   {
    "duration": 178,
    "start_time": "2022-04-08T13:06:48.942Z"
   },
   {
    "duration": 174,
    "start_time": "2022-04-08T13:06:59.808Z"
   },
   {
    "duration": 193,
    "start_time": "2022-04-08T13:07:35.223Z"
   },
   {
    "duration": 161,
    "start_time": "2022-04-08T13:09:35.333Z"
   },
   {
    "duration": 2,
    "start_time": "2022-04-08T13:11:33.619Z"
   },
   {
    "duration": 482,
    "start_time": "2022-04-08T13:11:33.623Z"
   },
   {
    "duration": 65,
    "start_time": "2022-04-08T13:11:34.108Z"
   },
   {
    "duration": 15,
    "start_time": "2022-04-08T13:11:34.174Z"
   },
   {
    "duration": 38,
    "start_time": "2022-04-08T13:11:34.192Z"
   },
   {
    "duration": 12,
    "start_time": "2022-04-08T13:11:34.232Z"
   },
   {
    "duration": 10,
    "start_time": "2022-04-08T13:11:34.246Z"
   },
   {
    "duration": 10,
    "start_time": "2022-04-08T13:11:34.258Z"
   },
   {
    "duration": 86,
    "start_time": "2022-04-08T13:11:34.270Z"
   },
   {
    "duration": 9,
    "start_time": "2022-04-08T13:11:34.357Z"
   },
   {
    "duration": 3,
    "start_time": "2022-04-08T13:11:34.368Z"
   },
   {
    "duration": 173,
    "start_time": "2022-04-08T13:11:34.372Z"
   },
   {
    "duration": 108,
    "start_time": "2022-04-08T13:11:34.547Z"
   },
   {
    "duration": 79,
    "start_time": "2022-04-08T13:11:34.658Z"
   },
   {
    "duration": 38,
    "start_time": "2022-04-08T13:11:34.738Z"
   },
   {
    "duration": 47,
    "start_time": "2022-04-08T13:11:34.781Z"
   },
   {
    "duration": 31,
    "start_time": "2022-04-08T13:11:34.830Z"
   },
   {
    "duration": 625,
    "start_time": "2022-04-08T13:11:34.862Z"
   },
   {
    "duration": 13,
    "start_time": "2022-04-08T13:11:35.489Z"
   },
   {
    "duration": 415,
    "start_time": "2022-04-08T13:11:35.504Z"
   },
   {
    "duration": 203,
    "start_time": "2022-04-08T13:11:35.921Z"
   },
   {
    "duration": 241,
    "start_time": "2022-04-08T13:11:36.126Z"
   },
   {
    "duration": 16,
    "start_time": "2022-04-08T13:13:01.070Z"
   },
   {
    "duration": 12,
    "start_time": "2022-04-08T13:13:17.141Z"
   },
   {
    "duration": 501,
    "start_time": "2022-04-08T13:25:51.148Z"
   },
   {
    "duration": 6,
    "start_time": "2022-04-08T13:26:16.112Z"
   },
   {
    "duration": 61,
    "start_time": "2022-04-08T13:29:44.995Z"
   },
   {
    "duration": 10,
    "start_time": "2022-04-08T13:30:30.153Z"
   },
   {
    "duration": 15,
    "start_time": "2022-04-08T14:00:38.951Z"
   },
   {
    "duration": 13,
    "start_time": "2022-04-08T14:00:50.939Z"
   },
   {
    "duration": 4,
    "start_time": "2022-04-08T14:04:07.225Z"
   },
   {
    "duration": 5,
    "start_time": "2022-04-08T14:04:19.307Z"
   },
   {
    "duration": 3,
    "start_time": "2022-04-08T14:05:58.540Z"
   },
   {
    "duration": 434,
    "start_time": "2022-04-08T14:05:58.545Z"
   },
   {
    "duration": 80,
    "start_time": "2022-04-08T14:05:58.981Z"
   },
   {
    "duration": 20,
    "start_time": "2022-04-08T14:05:59.063Z"
   },
   {
    "duration": 36,
    "start_time": "2022-04-08T14:05:59.087Z"
   },
   {
    "duration": 10,
    "start_time": "2022-04-08T14:05:59.124Z"
   },
   {
    "duration": 9,
    "start_time": "2022-04-08T14:05:59.135Z"
   },
   {
    "duration": 10,
    "start_time": "2022-04-08T14:05:59.145Z"
   },
   {
    "duration": 81,
    "start_time": "2022-04-08T14:05:59.156Z"
   },
   {
    "duration": 10,
    "start_time": "2022-04-08T14:05:59.238Z"
   },
   {
    "duration": 3,
    "start_time": "2022-04-08T14:05:59.250Z"
   },
   {
    "duration": 184,
    "start_time": "2022-04-08T14:05:59.255Z"
   },
   {
    "duration": 114,
    "start_time": "2022-04-08T14:05:59.441Z"
   },
   {
    "duration": 71,
    "start_time": "2022-04-08T14:05:59.559Z"
   },
   {
    "duration": 33,
    "start_time": "2022-04-08T14:05:59.632Z"
   },
   {
    "duration": 55,
    "start_time": "2022-04-08T14:05:59.667Z"
   },
   {
    "duration": 33,
    "start_time": "2022-04-08T14:05:59.724Z"
   },
   {
    "duration": 587,
    "start_time": "2022-04-08T14:05:59.780Z"
   },
   {
    "duration": 16,
    "start_time": "2022-04-08T14:06:00.368Z"
   },
   {
    "duration": 216,
    "start_time": "2022-04-08T14:06:00.388Z"
   },
   {
    "duration": 191,
    "start_time": "2022-04-08T14:06:00.606Z"
   },
   {
    "duration": 178,
    "start_time": "2022-04-08T14:06:00.799Z"
   },
   {
    "duration": 24,
    "start_time": "2022-04-08T14:06:00.979Z"
   },
   {
    "duration": 25,
    "start_time": "2022-04-08T14:06:01.004Z"
   },
   {
    "duration": 4,
    "start_time": "2022-04-08T14:06:01.031Z"
   },
   {
    "duration": 8,
    "start_time": "2022-04-08T14:06:01.036Z"
   },
   {
    "duration": 13,
    "start_time": "2022-04-08T14:06:01.045Z"
   },
   {
    "duration": 471,
    "start_time": "2022-04-18T15:02:42.113Z"
   },
   {
    "duration": 447,
    "start_time": "2022-04-18T15:02:42.586Z"
   },
   {
    "duration": 77,
    "start_time": "2022-04-18T15:02:43.035Z"
   },
   {
    "duration": 16,
    "start_time": "2022-04-18T15:02:43.114Z"
   },
   {
    "duration": 7,
    "start_time": "2022-04-18T15:02:43.133Z"
   },
   {
    "duration": 33,
    "start_time": "2022-04-18T15:02:43.141Z"
   },
   {
    "duration": 9,
    "start_time": "2022-04-18T15:02:43.176Z"
   },
   {
    "duration": 11,
    "start_time": "2022-04-18T15:02:43.186Z"
   },
   {
    "duration": 96,
    "start_time": "2022-04-18T15:02:43.199Z"
   },
   {
    "duration": 10,
    "start_time": "2022-04-18T15:02:43.297Z"
   },
   {
    "duration": 3,
    "start_time": "2022-04-18T15:02:43.309Z"
   },
   {
    "duration": 210,
    "start_time": "2022-04-18T15:02:43.313Z"
   },
   {
    "duration": 261,
    "start_time": "2022-04-18T15:02:43.525Z"
   },
   {
    "duration": 85,
    "start_time": "2022-04-18T15:02:43.789Z"
   },
   {
    "duration": 39,
    "start_time": "2022-04-18T15:02:43.876Z"
   },
   {
    "duration": 64,
    "start_time": "2022-04-18T15:02:43.917Z"
   },
   {
    "duration": 75,
    "start_time": "2022-04-18T15:02:43.983Z"
   },
   {
    "duration": 613,
    "start_time": "2022-04-18T15:02:44.061Z"
   },
   {
    "duration": 11,
    "start_time": "2022-04-18T15:02:44.676Z"
   },
   {
    "duration": 989,
    "start_time": "2022-04-18T15:02:44.689Z"
   },
   {
    "duration": 280,
    "start_time": "2022-04-18T15:02:45.680Z"
   },
   {
    "duration": 359,
    "start_time": "2022-04-18T15:02:45.963Z"
   },
   {
    "duration": 35,
    "start_time": "2022-04-18T15:02:46.325Z"
   },
   {
    "duration": 20,
    "start_time": "2022-04-18T15:02:46.362Z"
   },
   {
    "duration": 15,
    "start_time": "2022-04-18T15:02:46.384Z"
   },
   {
    "duration": 504,
    "start_time": "2022-04-18T15:02:46.401Z"
   },
   {
    "duration": 12,
    "start_time": "2022-04-18T15:02:46.907Z"
   },
   {
    "duration": 3,
    "start_time": "2022-04-18T15:03:27.877Z"
   },
   {
    "duration": 461,
    "start_time": "2022-04-18T15:03:27.883Z"
   },
   {
    "duration": 69,
    "start_time": "2022-04-18T15:03:28.346Z"
   },
   {
    "duration": 11,
    "start_time": "2022-04-18T15:03:28.417Z"
   },
   {
    "duration": 24,
    "start_time": "2022-04-18T15:03:28.430Z"
   },
   {
    "duration": 11,
    "start_time": "2022-04-18T15:03:28.456Z"
   },
   {
    "duration": 18,
    "start_time": "2022-04-18T15:03:28.469Z"
   },
   {
    "duration": 18,
    "start_time": "2022-04-18T15:03:28.488Z"
   },
   {
    "duration": 76,
    "start_time": "2022-04-18T15:03:28.507Z"
   },
   {
    "duration": 2865,
    "start_time": "2022-04-18T15:03:28.585Z"
   },
   {
    "duration": 0,
    "start_time": "2022-04-18T15:03:31.452Z"
   },
   {
    "duration": 0,
    "start_time": "2022-04-18T15:03:31.454Z"
   },
   {
    "duration": 0,
    "start_time": "2022-04-18T15:03:31.455Z"
   },
   {
    "duration": 0,
    "start_time": "2022-04-18T15:03:31.456Z"
   },
   {
    "duration": 0,
    "start_time": "2022-04-18T15:03:31.457Z"
   },
   {
    "duration": 0,
    "start_time": "2022-04-18T15:03:31.458Z"
   },
   {
    "duration": 0,
    "start_time": "2022-04-18T15:03:31.459Z"
   },
   {
    "duration": 0,
    "start_time": "2022-04-18T15:03:31.461Z"
   },
   {
    "duration": 0,
    "start_time": "2022-04-18T15:03:31.462Z"
   },
   {
    "duration": 0,
    "start_time": "2022-04-18T15:03:31.463Z"
   },
   {
    "duration": 0,
    "start_time": "2022-04-18T15:03:31.464Z"
   },
   {
    "duration": 0,
    "start_time": "2022-04-18T15:03:31.465Z"
   },
   {
    "duration": 0,
    "start_time": "2022-04-18T15:03:31.465Z"
   },
   {
    "duration": 0,
    "start_time": "2022-04-18T15:03:31.466Z"
   },
   {
    "duration": 0,
    "start_time": "2022-04-18T15:03:31.467Z"
   },
   {
    "duration": 0,
    "start_time": "2022-04-18T15:03:31.469Z"
   },
   {
    "duration": 0,
    "start_time": "2022-04-18T15:03:31.470Z"
   },
   {
    "duration": 3,
    "start_time": "2022-04-18T15:05:22.157Z"
   },
   {
    "duration": 384,
    "start_time": "2022-04-18T15:05:22.161Z"
   },
   {
    "duration": 72,
    "start_time": "2022-04-18T15:05:22.547Z"
   },
   {
    "duration": 11,
    "start_time": "2022-04-18T15:05:22.621Z"
   },
   {
    "duration": 26,
    "start_time": "2022-04-18T15:05:22.634Z"
   },
   {
    "duration": 32,
    "start_time": "2022-04-18T15:05:22.664Z"
   },
   {
    "duration": 31,
    "start_time": "2022-04-18T15:05:22.697Z"
   },
   {
    "duration": 33,
    "start_time": "2022-04-18T15:05:22.729Z"
   },
   {
    "duration": 144,
    "start_time": "2022-04-18T15:05:22.764Z"
   },
   {
    "duration": 14,
    "start_time": "2022-04-18T15:05:22.909Z"
   },
   {
    "duration": 3,
    "start_time": "2022-04-18T15:05:22.925Z"
   },
   {
    "duration": 252,
    "start_time": "2022-04-18T15:05:22.930Z"
   },
   {
    "duration": 170,
    "start_time": "2022-04-18T15:05:23.184Z"
   },
   {
    "duration": 98,
    "start_time": "2022-04-18T15:05:23.358Z"
   },
   {
    "duration": 46,
    "start_time": "2022-04-18T15:05:23.458Z"
   },
   {
    "duration": 65,
    "start_time": "2022-04-18T15:05:23.506Z"
   },
   {
    "duration": 32,
    "start_time": "2022-04-18T15:05:23.573Z"
   },
   {
    "duration": 600,
    "start_time": "2022-04-18T15:05:23.607Z"
   },
   {
    "duration": 8,
    "start_time": "2022-04-18T15:05:24.209Z"
   },
   {
    "duration": 231,
    "start_time": "2022-04-18T15:05:24.218Z"
   },
   {
    "duration": 181,
    "start_time": "2022-04-18T15:05:24.455Z"
   },
   {
    "duration": 246,
    "start_time": "2022-04-18T15:05:24.638Z"
   },
   {
    "duration": 15,
    "start_time": "2022-04-18T15:05:24.886Z"
   },
   {
    "duration": 13,
    "start_time": "2022-04-18T15:05:24.903Z"
   },
   {
    "duration": 4,
    "start_time": "2022-04-18T15:05:24.917Z"
   },
   {
    "duration": 37,
    "start_time": "2022-04-18T15:05:24.922Z"
   },
   {
    "duration": 13,
    "start_time": "2022-04-18T15:05:24.961Z"
   },
   {
    "duration": 36,
    "start_time": "2022-04-18T15:06:48.446Z"
   },
   {
    "duration": 514,
    "start_time": "2022-04-18T15:07:28.307Z"
   },
   {
    "duration": 2,
    "start_time": "2022-04-18T15:08:06.099Z"
   },
   {
    "duration": 357,
    "start_time": "2022-04-18T15:08:06.103Z"
   },
   {
    "duration": 70,
    "start_time": "2022-04-18T15:08:06.462Z"
   },
   {
    "duration": 21,
    "start_time": "2022-04-18T15:08:06.535Z"
   },
   {
    "duration": 10,
    "start_time": "2022-04-18T15:08:06.558Z"
   },
   {
    "duration": 11,
    "start_time": "2022-04-18T15:08:06.569Z"
   },
   {
    "duration": 16,
    "start_time": "2022-04-18T15:08:06.581Z"
   },
   {
    "duration": 12,
    "start_time": "2022-04-18T15:08:06.598Z"
   },
   {
    "duration": 86,
    "start_time": "2022-04-18T15:08:06.612Z"
   },
   {
    "duration": 9,
    "start_time": "2022-04-18T15:08:06.700Z"
   },
   {
    "duration": 4,
    "start_time": "2022-04-18T15:08:06.711Z"
   },
   {
    "duration": 170,
    "start_time": "2022-04-18T15:08:06.716Z"
   },
   {
    "duration": 93,
    "start_time": "2022-04-18T15:08:06.888Z"
   },
   {
    "duration": 71,
    "start_time": "2022-04-18T15:08:06.984Z"
   },
   {
    "duration": 33,
    "start_time": "2022-04-18T15:08:07.057Z"
   },
   {
    "duration": 38,
    "start_time": "2022-04-18T15:08:07.092Z"
   },
   {
    "duration": 49,
    "start_time": "2022-04-18T15:08:07.132Z"
   },
   {
    "duration": 521,
    "start_time": "2022-04-18T15:08:07.182Z"
   },
   {
    "duration": 8,
    "start_time": "2022-04-18T15:08:07.705Z"
   },
   {
    "duration": 204,
    "start_time": "2022-04-18T15:08:07.714Z"
   },
   {
    "duration": 176,
    "start_time": "2022-04-18T15:08:07.920Z"
   },
   {
    "duration": 159,
    "start_time": "2022-04-18T15:08:08.097Z"
   },
   {
    "duration": 13,
    "start_time": "2022-04-18T15:08:08.257Z"
   },
   {
    "duration": 12,
    "start_time": "2022-04-18T15:08:08.272Z"
   },
   {
    "duration": 4,
    "start_time": "2022-04-18T15:08:08.285Z"
   },
   {
    "duration": 6,
    "start_time": "2022-04-18T15:08:08.291Z"
   },
   {
    "duration": 10,
    "start_time": "2022-04-18T15:08:08.299Z"
   },
   {
    "duration": 12,
    "start_time": "2022-04-18T15:08:55.772Z"
   },
   {
    "duration": 10,
    "start_time": "2022-04-18T15:09:45.117Z"
   },
   {
    "duration": 10,
    "start_time": "2022-04-18T15:10:05.393Z"
   },
   {
    "duration": 14,
    "start_time": "2022-04-18T15:10:25.460Z"
   },
   {
    "duration": 12,
    "start_time": "2022-04-18T15:10:47.106Z"
   },
   {
    "duration": 11,
    "start_time": "2022-04-18T15:11:42.055Z"
   },
   {
    "duration": 417,
    "start_time": "2022-04-20T05:55:19.872Z"
   },
   {
    "duration": 406,
    "start_time": "2022-04-20T05:55:20.290Z"
   },
   {
    "duration": 68,
    "start_time": "2022-04-20T05:55:20.698Z"
   },
   {
    "duration": 16,
    "start_time": "2022-04-20T05:55:20.767Z"
   },
   {
    "duration": 8,
    "start_time": "2022-04-20T05:55:20.801Z"
   },
   {
    "duration": 11,
    "start_time": "2022-04-20T05:55:20.810Z"
   },
   {
    "duration": 10,
    "start_time": "2022-04-20T05:55:20.823Z"
   },
   {
    "duration": 13,
    "start_time": "2022-04-20T05:55:20.834Z"
   },
   {
    "duration": 95,
    "start_time": "2022-04-20T05:55:20.848Z"
   },
   {
    "duration": 11,
    "start_time": "2022-04-20T05:55:20.945Z"
   },
   {
    "duration": 4,
    "start_time": "2022-04-20T05:55:20.957Z"
   },
   {
    "duration": 203,
    "start_time": "2022-04-20T05:55:20.962Z"
   },
   {
    "duration": 179,
    "start_time": "2022-04-20T05:55:21.167Z"
   },
   {
    "duration": 118,
    "start_time": "2022-04-20T05:55:21.350Z"
   },
   {
    "duration": 66,
    "start_time": "2022-04-20T05:55:21.470Z"
   },
   {
    "duration": 69,
    "start_time": "2022-04-20T05:55:21.538Z"
   },
   {
    "duration": 19,
    "start_time": "2022-04-20T05:55:21.609Z"
   },
   {
    "duration": 78,
    "start_time": "2022-04-20T05:55:21.630Z"
   },
   {
    "duration": 9,
    "start_time": "2022-04-20T05:55:21.710Z"
   },
   {
    "duration": 14,
    "start_time": "2022-04-20T05:55:21.721Z"
   },
   {
    "duration": 545,
    "start_time": "2022-04-20T05:55:21.737Z"
   },
   {
    "duration": 17,
    "start_time": "2022-04-20T05:55:22.283Z"
   },
   {
    "duration": 599,
    "start_time": "2022-04-20T05:55:22.302Z"
   },
   {
    "duration": 221,
    "start_time": "2022-04-20T05:55:22.903Z"
   },
   {
    "duration": 174,
    "start_time": "2022-04-20T05:55:23.126Z"
   },
   {
    "duration": 15,
    "start_time": "2022-04-20T05:55:23.302Z"
   },
   {
    "duration": 13,
    "start_time": "2022-04-20T05:55:23.318Z"
   },
   {
    "duration": 4,
    "start_time": "2022-04-20T05:55:23.332Z"
   },
   {
    "duration": 420,
    "start_time": "2022-04-20T05:55:23.337Z"
   },
   {
    "duration": 10,
    "start_time": "2022-04-20T05:55:23.759Z"
   },
   {
    "duration": 506,
    "start_time": "2022-04-20T05:57:26.848Z"
   },
   {
    "duration": 19,
    "start_time": "2022-04-20T05:57:30.638Z"
   },
   {
    "duration": 486,
    "start_time": "2022-04-20T05:57:59.103Z"
   },
   {
    "duration": 4,
    "start_time": "2022-04-20T05:58:00.568Z"
   },
   {
    "duration": 18,
    "start_time": "2022-04-20T05:58:01.562Z"
   },
   {
    "duration": 2,
    "start_time": "2022-04-20T06:14:13.031Z"
   },
   {
    "duration": 398,
    "start_time": "2022-04-20T06:14:13.035Z"
   },
   {
    "duration": 122,
    "start_time": "2022-04-20T06:14:13.435Z"
   },
   {
    "duration": 13,
    "start_time": "2022-04-20T06:14:13.559Z"
   },
   {
    "duration": 23,
    "start_time": "2022-04-20T06:14:13.575Z"
   },
   {
    "duration": 31,
    "start_time": "2022-04-20T06:14:13.600Z"
   },
   {
    "duration": 19,
    "start_time": "2022-04-20T06:14:13.633Z"
   },
   {
    "duration": 40,
    "start_time": "2022-04-20T06:14:13.653Z"
   },
   {
    "duration": 79,
    "start_time": "2022-04-20T06:14:13.695Z"
   },
   {
    "duration": 8,
    "start_time": "2022-04-20T06:14:13.776Z"
   },
   {
    "duration": 38,
    "start_time": "2022-04-20T06:14:13.787Z"
   },
   {
    "duration": 149,
    "start_time": "2022-04-20T06:14:13.827Z"
   },
   {
    "duration": 89,
    "start_time": "2022-04-20T06:14:13.977Z"
   },
   {
    "duration": 68,
    "start_time": "2022-04-20T06:14:14.067Z"
   },
   {
    "duration": 31,
    "start_time": "2022-04-20T06:14:14.136Z"
   },
   {
    "duration": 49,
    "start_time": "2022-04-20T06:14:14.169Z"
   },
   {
    "duration": 14,
    "start_time": "2022-04-20T06:14:14.219Z"
   },
   {
    "duration": 58,
    "start_time": "2022-04-20T06:14:14.235Z"
   },
   {
    "duration": 9,
    "start_time": "2022-04-20T06:14:14.294Z"
   },
   {
    "duration": 20,
    "start_time": "2022-04-20T06:14:14.305Z"
   },
   {
    "duration": 491,
    "start_time": "2022-04-20T06:14:14.326Z"
   },
   {
    "duration": 4,
    "start_time": "2022-04-20T06:14:14.819Z"
   },
   {
    "duration": 33,
    "start_time": "2022-04-20T06:14:14.824Z"
   },
   {
    "duration": 34,
    "start_time": "2022-04-20T06:14:14.858Z"
   },
   {
    "duration": 182,
    "start_time": "2022-04-20T06:14:14.894Z"
   },
   {
    "duration": 225,
    "start_time": "2022-04-20T06:14:15.077Z"
   },
   {
    "duration": 141,
    "start_time": "2022-04-20T06:14:15.304Z"
   },
   {
    "duration": 12,
    "start_time": "2022-04-20T06:14:15.447Z"
   },
   {
    "duration": 32,
    "start_time": "2022-04-20T06:14:15.462Z"
   },
   {
    "duration": 15,
    "start_time": "2022-04-20T06:14:15.496Z"
   },
   {
    "duration": 25,
    "start_time": "2022-04-20T06:14:15.513Z"
   },
   {
    "duration": 15,
    "start_time": "2022-04-20T06:14:15.539Z"
   }
  ],
  "kernelspec": {
   "display_name": "Python 3 (ipykernel)",
   "language": "python",
   "name": "python3"
  },
  "language_info": {
   "codemirror_mode": {
    "name": "ipython",
    "version": 3
   },
   "file_extension": ".py",
   "mimetype": "text/x-python",
   "name": "python",
   "nbconvert_exporter": "python",
   "pygments_lexer": "ipython3",
   "version": "3.9.7"
  },
  "toc": {
   "base_numbering": 1,
   "nav_menu": {},
   "number_sections": true,
   "sideBar": true,
   "skip_h1_title": true,
   "title_cell": "Table of Contents",
   "title_sidebar": "Contents",
   "toc_cell": false,
   "toc_position": {},
   "toc_section_display": true,
   "toc_window_display": false
  }
 },
 "nbformat": 4,
 "nbformat_minor": 2
}
